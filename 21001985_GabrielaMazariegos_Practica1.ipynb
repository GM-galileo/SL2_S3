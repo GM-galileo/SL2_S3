{
 "cells": [
  {
   "cell_type": "markdown",
   "id": "necessary-seven",
   "metadata": {},
   "source": [
    "# <font color=blue>**TAREA 1**"
   ]
  },
  {
   "cell_type": "markdown",
   "id": "improved-buffer",
   "metadata": {},
   "source": [
    "- Utilizar estos datos(primera pestaña) para implementar :\n",
    "    - Hard-clustering con k-means (no usar sklearn)\n",
    "    - Soft-clustering con GMM usando sklearn(sklearn.mixture.GaussianMixture)\n",
    "- Ejecutar al menos 5 experimentos para seleccionar el valor de “K”, \n",
    "    - Ambos métodos pueden usar el mismo valor de “K”\n",
    "    - Analizar el centroide de cada cluster y determinar si es posible asignar una categoría cada cluster\n",
    "- Analizar y concluir si el método del codo es adecuado para este problema \n",
    "- Usar los datos en la segunda pestaña(valtest(normales)) y estimar:\n",
    "    - El cluster que k-means asigna cada uno.\n",
    "    - La probabilidad de pertenecer a cada cluster según GMM.\n",
    "- Usar GMM y simular 1000 observaciones para estimar(estimación de Monte Carlo) el valor esperado(promedio) de la función f : f(edad, estatura) = estatura /edad"
   ]
  },
  {
   "cell_type": "code",
   "execution_count": 1,
   "id": "excited-moses",
   "metadata": {},
   "outputs": [],
   "source": [
    "import numpy as np\n",
    "import pandas as pd\n",
    "import tensorflow as tf\n",
    "import matplotlib.pyplot as plt\n",
    "from scipy.stats import multivariate_normal\n",
    "from sklearn.mixture import GaussianMixture"
   ]
  },
  {
   "cell_type": "code",
   "execution_count": 40,
   "id": "dental-extra",
   "metadata": {},
   "outputs": [
    {
     "data": {
      "text/html": [
       "<div>\n",
       "<style scoped>\n",
       "    .dataframe tbody tr th:only-of-type {\n",
       "        vertical-align: middle;\n",
       "    }\n",
       "\n",
       "    .dataframe tbody tr th {\n",
       "        vertical-align: top;\n",
       "    }\n",
       "\n",
       "    .dataframe thead th {\n",
       "        text-align: right;\n",
       "    }\n",
       "</style>\n",
       "<table border=\"1\" class=\"dataframe\">\n",
       "  <thead>\n",
       "    <tr style=\"text-align: right;\">\n",
       "      <th></th>\n",
       "      <th>Estatura(metros)</th>\n",
       "      <th>Edad(años)</th>\n",
       "    </tr>\n",
       "  </thead>\n",
       "  <tbody>\n",
       "    <tr>\n",
       "      <th>0</th>\n",
       "      <td>1.77</td>\n",
       "      <td>26</td>\n",
       "    </tr>\n",
       "    <tr>\n",
       "      <th>1</th>\n",
       "      <td>1.74</td>\n",
       "      <td>31</td>\n",
       "    </tr>\n",
       "    <tr>\n",
       "      <th>2</th>\n",
       "      <td>1.72</td>\n",
       "      <td>24</td>\n",
       "    </tr>\n",
       "    <tr>\n",
       "      <th>3</th>\n",
       "      <td>1.78</td>\n",
       "      <td>34</td>\n",
       "    </tr>\n",
       "    <tr>\n",
       "      <th>4</th>\n",
       "      <td>1.65</td>\n",
       "      <td>32</td>\n",
       "    </tr>\n",
       "    <tr>\n",
       "      <th>5</th>\n",
       "      <td>1.66</td>\n",
       "      <td>29</td>\n",
       "    </tr>\n",
       "    <tr>\n",
       "      <th>6</th>\n",
       "      <td>1.64</td>\n",
       "      <td>27</td>\n",
       "    </tr>\n",
       "    <tr>\n",
       "      <th>7</th>\n",
       "      <td>1.85</td>\n",
       "      <td>34</td>\n",
       "    </tr>\n",
       "    <tr>\n",
       "      <th>8</th>\n",
       "      <td>1.85</td>\n",
       "      <td>26</td>\n",
       "    </tr>\n",
       "    <tr>\n",
       "      <th>9</th>\n",
       "      <td>1.75</td>\n",
       "      <td>21</td>\n",
       "    </tr>\n",
       "    <tr>\n",
       "      <th>10</th>\n",
       "      <td>1.73</td>\n",
       "      <td>23</td>\n",
       "    </tr>\n",
       "    <tr>\n",
       "      <th>11</th>\n",
       "      <td>1.79</td>\n",
       "      <td>25</td>\n",
       "    </tr>\n",
       "    <tr>\n",
       "      <th>12</th>\n",
       "      <td>1.82</td>\n",
       "      <td>24</td>\n",
       "    </tr>\n",
       "    <tr>\n",
       "      <th>13</th>\n",
       "      <td>1.65</td>\n",
       "      <td>25</td>\n",
       "    </tr>\n",
       "    <tr>\n",
       "      <th>14</th>\n",
       "      <td>1.79</td>\n",
       "      <td>25</td>\n",
       "    </tr>\n",
       "    <tr>\n",
       "      <th>15</th>\n",
       "      <td>1.72</td>\n",
       "      <td>34</td>\n",
       "    </tr>\n",
       "    <tr>\n",
       "      <th>16</th>\n",
       "      <td>1.70</td>\n",
       "      <td>26</td>\n",
       "    </tr>\n",
       "    <tr>\n",
       "      <th>17</th>\n",
       "      <td>1.57</td>\n",
       "      <td>25</td>\n",
       "    </tr>\n",
       "    <tr>\n",
       "      <th>18</th>\n",
       "      <td>1.66</td>\n",
       "      <td>26</td>\n",
       "    </tr>\n",
       "    <tr>\n",
       "      <th>19</th>\n",
       "      <td>1.75</td>\n",
       "      <td>27</td>\n",
       "    </tr>\n",
       "    <tr>\n",
       "      <th>20</th>\n",
       "      <td>1.77</td>\n",
       "      <td>32</td>\n",
       "    </tr>\n",
       "    <tr>\n",
       "      <th>21</th>\n",
       "      <td>1.80</td>\n",
       "      <td>40</td>\n",
       "    </tr>\n",
       "    <tr>\n",
       "      <th>22</th>\n",
       "      <td>1.85</td>\n",
       "      <td>25</td>\n",
       "    </tr>\n",
       "    <tr>\n",
       "      <th>23</th>\n",
       "      <td>1.82</td>\n",
       "      <td>24</td>\n",
       "    </tr>\n",
       "    <tr>\n",
       "      <th>24</th>\n",
       "      <td>1.75</td>\n",
       "      <td>38</td>\n",
       "    </tr>\n",
       "    <tr>\n",
       "      <th>25</th>\n",
       "      <td>1.73</td>\n",
       "      <td>34</td>\n",
       "    </tr>\n",
       "    <tr>\n",
       "      <th>26</th>\n",
       "      <td>1.55</td>\n",
       "      <td>29</td>\n",
       "    </tr>\n",
       "    <tr>\n",
       "      <th>27</th>\n",
       "      <td>1.76</td>\n",
       "      <td>28</td>\n",
       "    </tr>\n",
       "    <tr>\n",
       "      <th>28</th>\n",
       "      <td>1.68</td>\n",
       "      <td>27</td>\n",
       "    </tr>\n",
       "    <tr>\n",
       "      <th>29</th>\n",
       "      <td>1.65</td>\n",
       "      <td>30</td>\n",
       "    </tr>\n",
       "    <tr>\n",
       "      <th>30</th>\n",
       "      <td>1.72</td>\n",
       "      <td>26</td>\n",
       "    </tr>\n",
       "    <tr>\n",
       "      <th>31</th>\n",
       "      <td>1.90</td>\n",
       "      <td>24</td>\n",
       "    </tr>\n",
       "    <tr>\n",
       "      <th>32</th>\n",
       "      <td>1.74</td>\n",
       "      <td>34</td>\n",
       "    </tr>\n",
       "    <tr>\n",
       "      <th>33</th>\n",
       "      <td>1.73</td>\n",
       "      <td>33</td>\n",
       "    </tr>\n",
       "    <tr>\n",
       "      <th>34</th>\n",
       "      <td>1.83</td>\n",
       "      <td>53</td>\n",
       "    </tr>\n",
       "    <tr>\n",
       "      <th>35</th>\n",
       "      <td>1.65</td>\n",
       "      <td>28</td>\n",
       "    </tr>\n",
       "    <tr>\n",
       "      <th>36</th>\n",
       "      <td>1.73</td>\n",
       "      <td>24</td>\n",
       "    </tr>\n",
       "    <tr>\n",
       "      <th>37</th>\n",
       "      <td>1.73</td>\n",
       "      <td>22</td>\n",
       "    </tr>\n",
       "    <tr>\n",
       "      <th>38</th>\n",
       "      <td>1.73</td>\n",
       "      <td>23</td>\n",
       "    </tr>\n",
       "    <tr>\n",
       "      <th>39</th>\n",
       "      <td>1.65</td>\n",
       "      <td>43</td>\n",
       "    </tr>\n",
       "    <tr>\n",
       "      <th>40</th>\n",
       "      <td>1.72</td>\n",
       "      <td>26</td>\n",
       "    </tr>\n",
       "    <tr>\n",
       "      <th>41</th>\n",
       "      <td>1.63</td>\n",
       "      <td>31</td>\n",
       "    </tr>\n",
       "    <tr>\n",
       "      <th>42</th>\n",
       "      <td>1.73</td>\n",
       "      <td>35</td>\n",
       "    </tr>\n",
       "    <tr>\n",
       "      <th>43</th>\n",
       "      <td>1.85</td>\n",
       "      <td>49</td>\n",
       "    </tr>\n",
       "    <tr>\n",
       "      <th>44</th>\n",
       "      <td>1.71</td>\n",
       "      <td>28</td>\n",
       "    </tr>\n",
       "    <tr>\n",
       "      <th>45</th>\n",
       "      <td>1.70</td>\n",
       "      <td>28</td>\n",
       "    </tr>\n",
       "  </tbody>\n",
       "</table>\n",
       "</div>"
      ],
      "text/plain": [
       "    Estatura(metros)  Edad(años)\n",
       "0               1.77          26\n",
       "1               1.74          31\n",
       "2               1.72          24\n",
       "3               1.78          34\n",
       "4               1.65          32\n",
       "5               1.66          29\n",
       "6               1.64          27\n",
       "7               1.85          34\n",
       "8               1.85          26\n",
       "9               1.75          21\n",
       "10              1.73          23\n",
       "11              1.79          25\n",
       "12              1.82          24\n",
       "13              1.65          25\n",
       "14              1.79          25\n",
       "15              1.72          34\n",
       "16              1.70          26\n",
       "17              1.57          25\n",
       "18              1.66          26\n",
       "19              1.75          27\n",
       "20              1.77          32\n",
       "21              1.80          40\n",
       "22              1.85          25\n",
       "23              1.82          24\n",
       "24              1.75          38\n",
       "25              1.73          34\n",
       "26              1.55          29\n",
       "27              1.76          28\n",
       "28              1.68          27\n",
       "29              1.65          30\n",
       "30              1.72          26\n",
       "31              1.90          24\n",
       "32              1.74          34\n",
       "33              1.73          33\n",
       "34              1.83          53\n",
       "35              1.65          28\n",
       "36              1.73          24\n",
       "37              1.73          22\n",
       "38              1.73          23\n",
       "39              1.65          43\n",
       "40              1.72          26\n",
       "41              1.63          31\n",
       "42              1.73          35\n",
       "43              1.85          49\n",
       "44              1.71          28\n",
       "45              1.70          28"
      ]
     },
     "execution_count": 40,
     "metadata": {},
     "output_type": "execute_result"
    }
   ],
   "source": [
    "Estaturas = pd.read_excel('estaturas.xlsx','normales')\n",
    "EstaturasVT = pd.read_excel('estaturas.xlsx','valtest(normales)')\n",
    "Estaturas"
   ]
  },
  {
   "cell_type": "code",
   "execution_count": 31,
   "id": "reported-luther",
   "metadata": {},
   "outputs": [],
   "source": [
    "#Asignacion de valores K\n",
    "K1=2\n",
    "K2=3\n",
    "K3=4\n",
    "K4=5\n",
    "K5=6"
   ]
  },
  {
   "cell_type": "markdown",
   "id": "mysterious-subsection",
   "metadata": {},
   "source": [
    "## <font color=blue> Hard-clustering con k-means"
   ]
  },
  {
   "cell_type": "code",
   "execution_count": 132,
   "id": "extended-bicycle",
   "metadata": {},
   "outputs": [],
   "source": [
    "iteraciones = 100\n",
    "\n",
    "def KMeans_fit(X, iteraciones,K):\n",
    "    m= X.shape[0] \n",
    "    n= X.shape[1]\n",
    "\n",
    "    \n",
    "#falto implementar manualmente  \n",
    "    "
   ]
  },
  {
   "cell_type": "code",
   "execution_count": 133,
   "id": "emotional-supervisor",
   "metadata": {},
   "outputs": [],
   "source": [
    "c = KMeans_fit(Estaturas,iteraciones,K1)\n",
    "c"
   ]
  },
  {
   "cell_type": "markdown",
   "id": "retained-south",
   "metadata": {},
   "source": [
    "**Con Sklearn**"
   ]
  },
  {
   "cell_type": "code",
   "execution_count": 122,
   "id": "healthy-starter",
   "metadata": {},
   "outputs": [
    {
     "name": "stdout",
     "output_type": "stream",
     "text": [
      "[0 0 0 1 1 0 0 1 0 0 0 0 0 0 0 1 0 0 0 0 1 1 0 0 1 1 0 0 0 0 0 0 1 1 1 0 0\n",
      " 0 0 1 0 0 1 1 0 0]\n",
      "[[ 1.7225     26.03125   ]\n",
      " [ 1.75571429 37.5       ]]\n"
     ]
    }
   ],
   "source": [
    "from sklearn.cluster import KMeans\n",
    "\n",
    "kmeans1 = KMeans(n_clusters=K1, random_state=0).fit(Estaturas)\n",
    "print(kmeans1.labels_)\n",
    "print(kmeans1.cluster_centers_)"
   ]
  },
  {
   "cell_type": "code",
   "execution_count": 127,
   "id": "stopped-feeding",
   "metadata": {},
   "outputs": [
    {
     "data": {
      "text/html": [
       "<div>\n",
       "<style scoped>\n",
       "    .dataframe tbody tr th:only-of-type {\n",
       "        vertical-align: middle;\n",
       "    }\n",
       "\n",
       "    .dataframe tbody tr th {\n",
       "        vertical-align: top;\n",
       "    }\n",
       "\n",
       "    .dataframe thead th {\n",
       "        text-align: right;\n",
       "    }\n",
       "</style>\n",
       "<table border=\"1\" class=\"dataframe\">\n",
       "  <thead>\n",
       "    <tr style=\"text-align: right;\">\n",
       "      <th></th>\n",
       "      <th>0</th>\n",
       "    </tr>\n",
       "  </thead>\n",
       "  <tbody>\n",
       "    <tr>\n",
       "      <th>0</th>\n",
       "      <td>0</td>\n",
       "    </tr>\n",
       "    <tr>\n",
       "      <th>1</th>\n",
       "      <td>0</td>\n",
       "    </tr>\n",
       "    <tr>\n",
       "      <th>2</th>\n",
       "      <td>0</td>\n",
       "    </tr>\n",
       "    <tr>\n",
       "      <th>3</th>\n",
       "      <td>1</td>\n",
       "    </tr>\n",
       "    <tr>\n",
       "      <th>4</th>\n",
       "      <td>0</td>\n",
       "    </tr>\n",
       "    <tr>\n",
       "      <th>5</th>\n",
       "      <td>1</td>\n",
       "    </tr>\n",
       "    <tr>\n",
       "      <th>6</th>\n",
       "      <td>0</td>\n",
       "    </tr>\n",
       "    <tr>\n",
       "      <th>7</th>\n",
       "      <td>0</td>\n",
       "    </tr>\n",
       "  </tbody>\n",
       "</table>\n",
       "</div>"
      ],
      "text/plain": [
       "   0\n",
       "0  0\n",
       "1  0\n",
       "2  0\n",
       "3  1\n",
       "4  0\n",
       "5  1\n",
       "6  0\n",
       "7  0"
      ]
     },
     "execution_count": 127,
     "metadata": {},
     "output_type": "execute_result"
    }
   ],
   "source": [
    "ProbE1 = kmeans1.predict(EstaturasVT)\n",
    "pd.DataFrame(ProbE1)"
   ]
  },
  {
   "cell_type": "code",
   "execution_count": 123,
   "id": "exclusive-tuition",
   "metadata": {},
   "outputs": [
    {
     "name": "stdout",
     "output_type": "stream",
     "text": [
      "[0 2 0 2 2 0 0 2 0 0 0 0 0 0 0 2 0 0 0 0 2 2 0 0 2 2 0 0 0 2 0 0 2 2 1 0 0\n",
      " 0 0 1 0 2 2 1 0 0]\n",
      "[[ 1.72758621 25.55172414]\n",
      " [ 1.77666667 48.33333333]\n",
      " [ 1.73357143 33.71428571]]\n"
     ]
    }
   ],
   "source": [
    "kmeans2 = KMeans(n_clusters=K2, random_state=0).fit(Estaturas)\n",
    "print(kmeans2.labels_)\n",
    "print(kmeans2.cluster_centers_)"
   ]
  },
  {
   "cell_type": "code",
   "execution_count": 128,
   "id": "structural-cuisine",
   "metadata": {},
   "outputs": [
    {
     "data": {
      "text/html": [
       "<div>\n",
       "<style scoped>\n",
       "    .dataframe tbody tr th:only-of-type {\n",
       "        vertical-align: middle;\n",
       "    }\n",
       "\n",
       "    .dataframe tbody tr th {\n",
       "        vertical-align: top;\n",
       "    }\n",
       "\n",
       "    .dataframe thead th {\n",
       "        text-align: right;\n",
       "    }\n",
       "</style>\n",
       "<table border=\"1\" class=\"dataframe\">\n",
       "  <thead>\n",
       "    <tr style=\"text-align: right;\">\n",
       "      <th></th>\n",
       "      <th>0</th>\n",
       "    </tr>\n",
       "  </thead>\n",
       "  <tbody>\n",
       "    <tr>\n",
       "      <th>0</th>\n",
       "      <td>0</td>\n",
       "    </tr>\n",
       "    <tr>\n",
       "      <th>1</th>\n",
       "      <td>0</td>\n",
       "    </tr>\n",
       "    <tr>\n",
       "      <th>2</th>\n",
       "      <td>2</td>\n",
       "    </tr>\n",
       "    <tr>\n",
       "      <th>3</th>\n",
       "      <td>2</td>\n",
       "    </tr>\n",
       "    <tr>\n",
       "      <th>4</th>\n",
       "      <td>2</td>\n",
       "    </tr>\n",
       "    <tr>\n",
       "      <th>5</th>\n",
       "      <td>2</td>\n",
       "    </tr>\n",
       "    <tr>\n",
       "      <th>6</th>\n",
       "      <td>2</td>\n",
       "    </tr>\n",
       "    <tr>\n",
       "      <th>7</th>\n",
       "      <td>2</td>\n",
       "    </tr>\n",
       "  </tbody>\n",
       "</table>\n",
       "</div>"
      ],
      "text/plain": [
       "   0\n",
       "0  0\n",
       "1  0\n",
       "2  2\n",
       "3  2\n",
       "4  2\n",
       "5  2\n",
       "6  2\n",
       "7  2"
      ]
     },
     "execution_count": 128,
     "metadata": {},
     "output_type": "execute_result"
    }
   ],
   "source": [
    "ProbE2 = kmeans2.predict(EstaturasVT)\n",
    "pd.DataFrame(ProbE2)"
   ]
  },
  {
   "cell_type": "code",
   "execution_count": 129,
   "id": "ahead-seventh",
   "metadata": {},
   "outputs": [
    {
     "name": "stdout",
     "output_type": "stream",
     "text": [
      "[2 0 2 0 0 0 2 0 2 2 2 2 2 2 2 0 2 2 2 2 0 3 2 2 3 0 0 2 2 0 2 2 0 0 1 2 2\n",
      " 2 2 3 2 0 0 1 2 2]\n",
      "[[ 1.70928571 32.28571429]\n",
      " [ 1.84       51.        ]\n",
      " [ 1.73666667 25.2962963 ]\n",
      " [ 1.73333333 40.33333333]]\n"
     ]
    }
   ],
   "source": [
    "kmeans3 = KMeans(n_clusters=K3, random_state=0).fit(Estaturas)\n",
    "print(kmeans3.labels_)\n",
    "print(kmeans3.cluster_centers_)"
   ]
  },
  {
   "cell_type": "code",
   "execution_count": 130,
   "id": "optimum-stevens",
   "metadata": {},
   "outputs": [
    {
     "data": {
      "text/html": [
       "<div>\n",
       "<style scoped>\n",
       "    .dataframe tbody tr th:only-of-type {\n",
       "        vertical-align: middle;\n",
       "    }\n",
       "\n",
       "    .dataframe tbody tr th {\n",
       "        vertical-align: top;\n",
       "    }\n",
       "\n",
       "    .dataframe thead th {\n",
       "        text-align: right;\n",
       "    }\n",
       "</style>\n",
       "<table border=\"1\" class=\"dataframe\">\n",
       "  <thead>\n",
       "    <tr style=\"text-align: right;\">\n",
       "      <th></th>\n",
       "      <th>0</th>\n",
       "    </tr>\n",
       "  </thead>\n",
       "  <tbody>\n",
       "    <tr>\n",
       "      <th>0</th>\n",
       "      <td>2</td>\n",
       "    </tr>\n",
       "    <tr>\n",
       "      <th>1</th>\n",
       "      <td>2</td>\n",
       "    </tr>\n",
       "    <tr>\n",
       "      <th>2</th>\n",
       "      <td>0</td>\n",
       "    </tr>\n",
       "    <tr>\n",
       "      <th>3</th>\n",
       "      <td>0</td>\n",
       "    </tr>\n",
       "    <tr>\n",
       "      <th>4</th>\n",
       "      <td>0</td>\n",
       "    </tr>\n",
       "    <tr>\n",
       "      <th>5</th>\n",
       "      <td>0</td>\n",
       "    </tr>\n",
       "    <tr>\n",
       "      <th>6</th>\n",
       "      <td>0</td>\n",
       "    </tr>\n",
       "    <tr>\n",
       "      <th>7</th>\n",
       "      <td>0</td>\n",
       "    </tr>\n",
       "  </tbody>\n",
       "</table>\n",
       "</div>"
      ],
      "text/plain": [
       "   0\n",
       "0  2\n",
       "1  2\n",
       "2  0\n",
       "3  0\n",
       "4  0\n",
       "5  0\n",
       "6  0\n",
       "7  0"
      ]
     },
     "execution_count": 130,
     "metadata": {},
     "output_type": "execute_result"
    }
   ],
   "source": [
    "ProbE3 = kmeans3.predict(EstaturasVT)\n",
    "pd.DataFrame(ProbE3)"
   ]
  },
  {
   "cell_type": "code",
   "execution_count": 134,
   "id": "disciplinary-detective",
   "metadata": {},
   "outputs": [
    {
     "name": "stdout",
     "output_type": "stream",
     "text": [
      "[4 1 0 1 1 4 4 1 4 0 0 0 0 0 0 1 4 0 4 4 1 2 0 0 2 1 4 4 4 4 4 0 1 1 3 4 0\n",
      " 0 0 2 4 1 1 3 4 4]\n",
      "[[ 1.75571429 23.85714286]\n",
      " [ 1.73363636 33.09090909]\n",
      " [ 1.73333333 40.33333333]\n",
      " [ 1.84       51.        ]\n",
      " [ 1.698125   27.3125    ]]\n"
     ]
    }
   ],
   "source": [
    "kmeans4 = KMeans(n_clusters=K4, random_state=0).fit(Estaturas)\n",
    "print(kmeans4.labels_)\n",
    "print(kmeans4.cluster_centers_)"
   ]
  },
  {
   "cell_type": "code",
   "execution_count": 135,
   "id": "ordered-drawing",
   "metadata": {},
   "outputs": [
    {
     "data": {
      "text/html": [
       "<div>\n",
       "<style scoped>\n",
       "    .dataframe tbody tr th:only-of-type {\n",
       "        vertical-align: middle;\n",
       "    }\n",
       "\n",
       "    .dataframe tbody tr th {\n",
       "        vertical-align: top;\n",
       "    }\n",
       "\n",
       "    .dataframe thead th {\n",
       "        text-align: right;\n",
       "    }\n",
       "</style>\n",
       "<table border=\"1\" class=\"dataframe\">\n",
       "  <thead>\n",
       "    <tr style=\"text-align: right;\">\n",
       "      <th></th>\n",
       "      <th>0</th>\n",
       "    </tr>\n",
       "  </thead>\n",
       "  <tbody>\n",
       "    <tr>\n",
       "      <th>0</th>\n",
       "      <td>0</td>\n",
       "    </tr>\n",
       "    <tr>\n",
       "      <th>1</th>\n",
       "      <td>4</td>\n",
       "    </tr>\n",
       "    <tr>\n",
       "      <th>2</th>\n",
       "      <td>1</td>\n",
       "    </tr>\n",
       "    <tr>\n",
       "      <th>3</th>\n",
       "      <td>1</td>\n",
       "    </tr>\n",
       "    <tr>\n",
       "      <th>4</th>\n",
       "      <td>4</td>\n",
       "    </tr>\n",
       "    <tr>\n",
       "      <th>5</th>\n",
       "      <td>1</td>\n",
       "    </tr>\n",
       "    <tr>\n",
       "      <th>6</th>\n",
       "      <td>1</td>\n",
       "    </tr>\n",
       "    <tr>\n",
       "      <th>7</th>\n",
       "      <td>1</td>\n",
       "    </tr>\n",
       "  </tbody>\n",
       "</table>\n",
       "</div>"
      ],
      "text/plain": [
       "   0\n",
       "0  0\n",
       "1  4\n",
       "2  1\n",
       "3  1\n",
       "4  4\n",
       "5  1\n",
       "6  1\n",
       "7  1"
      ]
     },
     "execution_count": 135,
     "metadata": {},
     "output_type": "execute_result"
    }
   ],
   "source": [
    "ProbE4 = kmeans4.predict(EstaturasVT)\n",
    "pd.DataFrame(ProbE4)"
   ]
  },
  {
   "cell_type": "markdown",
   "id": "spanish-humidity",
   "metadata": {},
   "source": [
    "**Conclusion Metodo Del Codo**\n",
    "En este problema en particular ya que la cantidad de datos es minima, se concluye que no es necesario la utilizacion del metodo del codo."
   ]
  },
  {
   "cell_type": "markdown",
   "id": "mathematical-personal",
   "metadata": {},
   "source": [
    "## <font color=blue> Soft-clustering con GMM usando sklearn(sklearn.mixture.GaussianMixture)"
   ]
  },
  {
   "cell_type": "markdown",
   "id": "saving-channel",
   "metadata": {},
   "source": [
    "**PRUEBA 1**"
   ]
  },
  {
   "cell_type": "code",
   "execution_count": 69,
   "id": "corporate-evaluation",
   "metadata": {},
   "outputs": [
    {
     "name": "stdout",
     "output_type": "stream",
     "text": [
      "[0.60929157 0.39070843]\n",
      "[[ 1.72384042 25.89825759]\n",
      " [ 1.74628242 35.17238953]]\n",
      "[[[ 6.53928888e-03 -8.93540179e-02]\n",
      "  [-8.93540179e-02  5.33211427e+00]]\n",
      "\n",
      " [[ 3.71334628e-03  2.01563366e-01]\n",
      "  [ 2.01563366e-01  5.19781398e+01]]]\n"
     ]
    },
    {
     "data": {
      "image/png": "[encoded data removed]",
      "text/plain": [
       "<Figure size 432x288 with 1 Axes>"
      ]
     },
     "metadata": {
      "needs_background": "light"
     },
     "output_type": "display_data"
    }
   ],
   "source": [
    "GMM1 = GaussianMixture(n_components=K1, random_state=0)\n",
    "GMM1.fit(Estaturas)\n",
    "print(GMM1.weights_)\n",
    "print(GMM1.means_)\n",
    "print(GMM1.covariances_)\n",
    "Pred1 = GMM1.predict(Estaturas)\n",
    "\n",
    "plt.scatter(Estaturas.iloc[:, 0], Estaturas.iloc[:, 1], c=Pred1);"
   ]
  },
  {
   "cell_type": "code",
   "execution_count": 48,
   "id": "tutorial-lecture",
   "metadata": {},
   "outputs": [
    {
     "name": "stdout",
     "output_type": "stream",
     "text": [
      "PROBABILIDAD\n"
     ]
    },
    {
     "data": {
      "text/html": [
       "<div>\n",
       "<style scoped>\n",
       "    .dataframe tbody tr th:only-of-type {\n",
       "        vertical-align: middle;\n",
       "    }\n",
       "\n",
       "    .dataframe tbody tr th {\n",
       "        vertical-align: top;\n",
       "    }\n",
       "\n",
       "    .dataframe thead th {\n",
       "        text-align: right;\n",
       "    }\n",
       "</style>\n",
       "<table border=\"1\" class=\"dataframe\">\n",
       "  <thead>\n",
       "    <tr style=\"text-align: right;\">\n",
       "      <th></th>\n",
       "      <th>Prob K1</th>\n",
       "      <th>Prob K2</th>\n",
       "    </tr>\n",
       "  </thead>\n",
       "  <tbody>\n",
       "    <tr>\n",
       "      <th>0</th>\n",
       "      <td>0.977318</td>\n",
       "      <td>0.022682</td>\n",
       "    </tr>\n",
       "    <tr>\n",
       "      <th>1</th>\n",
       "      <td>0.899945</td>\n",
       "      <td>0.100055</td>\n",
       "    </tr>\n",
       "    <tr>\n",
       "      <th>2</th>\n",
       "      <td>0.855644</td>\n",
       "      <td>0.144356</td>\n",
       "    </tr>\n",
       "    <tr>\n",
       "      <th>3</th>\n",
       "      <td>0.051101</td>\n",
       "      <td>0.948899</td>\n",
       "    </tr>\n",
       "    <tr>\n",
       "      <th>4</th>\n",
       "      <td>0.230555</td>\n",
       "      <td>0.769445</td>\n",
       "    </tr>\n",
       "    <tr>\n",
       "      <th>5</th>\n",
       "      <td>0.020492</td>\n",
       "      <td>0.979508</td>\n",
       "    </tr>\n",
       "    <tr>\n",
       "      <th>6</th>\n",
       "      <td>0.067214</td>\n",
       "      <td>0.932786</td>\n",
       "    </tr>\n",
       "    <tr>\n",
       "      <th>7</th>\n",
       "      <td>0.805180</td>\n",
       "      <td>0.194820</td>\n",
       "    </tr>\n",
       "  </tbody>\n",
       "</table>\n",
       "</div>"
      ],
      "text/plain": [
       "    Prob K1   Prob K2\n",
       "0  0.977318  0.022682\n",
       "1  0.899945  0.100055\n",
       "2  0.855644  0.144356\n",
       "3  0.051101  0.948899\n",
       "4  0.230555  0.769445\n",
       "5  0.020492  0.979508\n",
       "6  0.067214  0.932786\n",
       "7  0.805180  0.194820"
      ]
     },
     "execution_count": 48,
     "metadata": {},
     "output_type": "execute_result"
    }
   ],
   "source": [
    "Prob1 = GMM1.predict_proba(EstaturasVT)\n",
    "print(\"PROBABILIDAD\")\n",
    "pd.DataFrame(Prob1,columns=['Prob K1','Prob K2'])"
   ]
  },
  {
   "cell_type": "markdown",
   "id": "higher-disaster",
   "metadata": {},
   "source": [
    "**PRUEBA 2**"
   ]
  },
  {
   "cell_type": "code",
   "execution_count": 33,
   "id": "blocked-empty",
   "metadata": {},
   "outputs": [
    {
     "name": "stdout",
     "output_type": "stream",
     "text": [
      "[0.62248755 0.06521791 0.31229455]\n",
      "[[ 1.72807829 25.58286677]\n",
      " [ 1.77666741 48.33323415]\n",
      " [ 1.73243803 33.4444868 ]]\n",
      "[[[ 6.15245553e-03 -6.94306691e-02]\n",
      "  [-6.94306691e-02  4.37600428e+00]]\n",
      "\n",
      " [[ 8.08974308e-03  3.24437283e-01]\n",
      "  [ 3.24437283e-01  1.68897452e+01]]\n",
      "\n",
      " [[ 3.38864952e-03  9.91520595e-02]\n",
      "  [ 9.91520595e-02  8.53204811e+00]]]\n"
     ]
    },
    {
     "data": {
      "image/png": "[encoded data removed]",
      "text/plain": [
       "<Figure size 432x288 with 1 Axes>"
      ]
     },
     "metadata": {
      "needs_background": "light"
     },
     "output_type": "display_data"
    }
   ],
   "source": [
    "GMM2 = GaussianMixture(n_components=K2, random_state=0)\n",
    "GMM2.fit(Estaturas)\n",
    "print(GMM2.weights_)\n",
    "print(GMM2.means_)\n",
    "print(GMM2.covariances_)\n",
    "Pred2 = GMM2.predict(Estaturas)\n",
    "\n",
    "plt.scatter(Estaturas.iloc[:, 0], Estaturas.iloc[:, 1], c=Pred2);"
   ]
  },
  {
   "cell_type": "code",
   "execution_count": 47,
   "id": "blessed-spectacular",
   "metadata": {},
   "outputs": [
    {
     "name": "stdout",
     "output_type": "stream",
     "text": [
      "PROBABILIDAD\n"
     ]
    },
    {
     "data": {
      "text/html": [
       "<div>\n",
       "<style scoped>\n",
       "    .dataframe tbody tr th:only-of-type {\n",
       "        vertical-align: middle;\n",
       "    }\n",
       "\n",
       "    .dataframe tbody tr th {\n",
       "        vertical-align: top;\n",
       "    }\n",
       "\n",
       "    .dataframe thead th {\n",
       "        text-align: right;\n",
       "    }\n",
       "</style>\n",
       "<table border=\"1\" class=\"dataframe\">\n",
       "  <thead>\n",
       "    <tr style=\"text-align: right;\">\n",
       "      <th></th>\n",
       "      <th>Prob K1</th>\n",
       "      <th>Prob K2</th>\n",
       "      <th>Prob K3</th>\n",
       "    </tr>\n",
       "  </thead>\n",
       "  <tbody>\n",
       "    <tr>\n",
       "      <th>0</th>\n",
       "      <td>0.999992</td>\n",
       "      <td>1.025468e-36</td>\n",
       "      <td>0.000008</td>\n",
       "    </tr>\n",
       "    <tr>\n",
       "      <th>1</th>\n",
       "      <td>0.998462</td>\n",
       "      <td>4.420031e-29</td>\n",
       "      <td>0.001538</td>\n",
       "    </tr>\n",
       "    <tr>\n",
       "      <th>2</th>\n",
       "      <td>0.464403</td>\n",
       "      <td>2.663737e-07</td>\n",
       "      <td>0.535597</td>\n",
       "    </tr>\n",
       "    <tr>\n",
       "      <th>3</th>\n",
       "      <td>0.012339</td>\n",
       "      <td>2.704640e-02</td>\n",
       "      <td>0.960614</td>\n",
       "    </tr>\n",
       "    <tr>\n",
       "      <th>4</th>\n",
       "      <td>0.530903</td>\n",
       "      <td>1.443813e-22</td>\n",
       "      <td>0.469097</td>\n",
       "    </tr>\n",
       "    <tr>\n",
       "      <th>5</th>\n",
       "      <td>0.004979</td>\n",
       "      <td>5.092273e-15</td>\n",
       "      <td>0.995021</td>\n",
       "    </tr>\n",
       "    <tr>\n",
       "      <th>6</th>\n",
       "      <td>0.052218</td>\n",
       "      <td>1.505383e-18</td>\n",
       "      <td>0.947782</td>\n",
       "    </tr>\n",
       "    <tr>\n",
       "      <th>7</th>\n",
       "      <td>0.374741</td>\n",
       "      <td>8.381399e-08</td>\n",
       "      <td>0.625259</td>\n",
       "    </tr>\n",
       "  </tbody>\n",
       "</table>\n",
       "</div>"
      ],
      "text/plain": [
       "    Prob K1       Prob K2   Prob K3\n",
       "0  0.999992  1.025468e-36  0.000008\n",
       "1  0.998462  4.420031e-29  0.001538\n",
       "2  0.464403  2.663737e-07  0.535597\n",
       "3  0.012339  2.704640e-02  0.960614\n",
       "4  0.530903  1.443813e-22  0.469097\n",
       "5  0.004979  5.092273e-15  0.995021\n",
       "6  0.052218  1.505383e-18  0.947782\n",
       "7  0.374741  8.381399e-08  0.625259"
      ]
     },
     "execution_count": 47,
     "metadata": {},
     "output_type": "execute_result"
    }
   ],
   "source": [
    "Prob2 = GMM2.predict_proba(EstaturasVT)\n",
    "print(\"PROBABILIDAD\")\n",
    "pd.DataFrame(Prob2,columns=['Prob K1','Prob K2','Prob K3'])"
   ]
  },
  {
   "cell_type": "markdown",
   "id": "removable-instrumentation",
   "metadata": {},
   "source": [
    "**PRUEBA 3**"
   ]
  },
  {
   "cell_type": "code",
   "execution_count": 34,
   "id": "parallel-valuation",
   "metadata": {},
   "outputs": [
    {
     "name": "stdout",
     "output_type": "stream",
     "text": [
      "[0.24780468 0.06521724 0.25677794 0.43020014]\n",
      "[[ 1.67056857 28.20035884]\n",
      " [ 1.77666859 48.33329889]\n",
      " [ 1.75158586 34.17089106]\n",
      " [ 1.7503387  24.65611208]]\n",
      "[[[ 3.05297376e-03 -4.71155474e-02]\n",
      "  [-4.71155474e-02  3.25658573e+00]]\n",
      "\n",
      " [[ 8.08968354e-03  3.24434494e-01]\n",
      "  [ 3.24434494e-01  1.68895079e+01]]\n",
      "\n",
      " [[ 1.96126271e-03  4.24249964e-02]\n",
      "  [ 4.24249964e-02  6.84108283e+00]]\n",
      "\n",
      " [[ 5.71645385e-03 -1.49520707e-02]\n",
      "  [-1.49520707e-02  2.60517037e+00]]]\n"
     ]
    },
    {
     "data": {
      "image/png": "[encoded data removed]",
      "text/plain": [
       "<Figure size 432x288 with 1 Axes>"
      ]
     },
     "metadata": {
      "needs_background": "light"
     },
     "output_type": "display_data"
    }
   ],
   "source": [
    "GMM3 = GaussianMixture(n_components=K3, random_state=0)\n",
    "GMM3.fit(Estaturas)\n",
    "print(GMM3.weights_)\n",
    "print(GMM3.means_)\n",
    "print(GMM3.covariances_)\n",
    "Pred3 = GMM3.predict(Estaturas)\n",
    "\n",
    "plt.scatter(Estaturas.iloc[:, 0], Estaturas.iloc[:, 1], c=Pred3);"
   ]
  },
  {
   "cell_type": "code",
   "execution_count": 49,
   "id": "coated-cleaners",
   "metadata": {},
   "outputs": [
    {
     "name": "stdout",
     "output_type": "stream",
     "text": [
      "PROBABILIDAD\n"
     ]
    },
    {
     "data": {
      "text/html": [
       "<div>\n",
       "<style scoped>\n",
       "    .dataframe tbody tr th:only-of-type {\n",
       "        vertical-align: middle;\n",
       "    }\n",
       "\n",
       "    .dataframe tbody tr th {\n",
       "        vertical-align: top;\n",
       "    }\n",
       "\n",
       "    .dataframe thead th {\n",
       "        text-align: right;\n",
       "    }\n",
       "</style>\n",
       "<table border=\"1\" class=\"dataframe\">\n",
       "  <thead>\n",
       "    <tr style=\"text-align: right;\">\n",
       "      <th></th>\n",
       "      <th>Prob K1</th>\n",
       "      <th>Prob K2</th>\n",
       "      <th>Prob K3</th>\n",
       "      <th>Prob K4</th>\n",
       "    </tr>\n",
       "  </thead>\n",
       "  <tbody>\n",
       "    <tr>\n",
       "      <th>0</th>\n",
       "      <td>0.027450</td>\n",
       "      <td>9.253041e-37</td>\n",
       "      <td>0.000022</td>\n",
       "      <td>9.725283e-01</td>\n",
       "    </tr>\n",
       "    <tr>\n",
       "      <th>1</th>\n",
       "      <td>0.154864</td>\n",
       "      <td>5.890750e-29</td>\n",
       "      <td>0.004240</td>\n",
       "      <td>8.408956e-01</td>\n",
       "    </tr>\n",
       "    <tr>\n",
       "      <th>2</th>\n",
       "      <td>0.989679</td>\n",
       "      <td>9.964853e-08</td>\n",
       "      <td>0.009619</td>\n",
       "      <td>7.015457e-04</td>\n",
       "    </tr>\n",
       "    <tr>\n",
       "      <th>3</th>\n",
       "      <td>0.499112</td>\n",
       "      <td>8.793084e-02</td>\n",
       "      <td>0.412957</td>\n",
       "      <td>5.183732e-07</td>\n",
       "    </tr>\n",
       "    <tr>\n",
       "      <th>4</th>\n",
       "      <td>0.045261</td>\n",
       "      <td>1.585191e-22</td>\n",
       "      <td>0.849342</td>\n",
       "      <td>1.053973e-01</td>\n",
       "    </tr>\n",
       "    <tr>\n",
       "      <th>5</th>\n",
       "      <td>0.002575</td>\n",
       "      <td>4.482202e-15</td>\n",
       "      <td>0.997365</td>\n",
       "      <td>6.083731e-05</td>\n",
       "    </tr>\n",
       "    <tr>\n",
       "      <th>6</th>\n",
       "      <td>0.008991</td>\n",
       "      <td>1.131216e-18</td>\n",
       "      <td>0.988814</td>\n",
       "      <td>2.194692e-03</td>\n",
       "    </tr>\n",
       "    <tr>\n",
       "      <th>7</th>\n",
       "      <td>0.981125</td>\n",
       "      <td>3.729918e-08</td>\n",
       "      <td>0.018115</td>\n",
       "      <td>7.592763e-04</td>\n",
       "    </tr>\n",
       "  </tbody>\n",
       "</table>\n",
       "</div>"
      ],
      "text/plain": [
       "    Prob K1       Prob K2   Prob K3       Prob K4\n",
       "0  0.027450  9.253041e-37  0.000022  9.725283e-01\n",
       "1  0.154864  5.890750e-29  0.004240  8.408956e-01\n",
       "2  0.989679  9.964853e-08  0.009619  7.015457e-04\n",
       "3  0.499112  8.793084e-02  0.412957  5.183732e-07\n",
       "4  0.045261  1.585191e-22  0.849342  1.053973e-01\n",
       "5  0.002575  4.482202e-15  0.997365  6.083731e-05\n",
       "6  0.008991  1.131216e-18  0.988814  2.194692e-03\n",
       "7  0.981125  3.729918e-08  0.018115  7.592763e-04"
      ]
     },
     "execution_count": 49,
     "metadata": {},
     "output_type": "execute_result"
    }
   ],
   "source": [
    "Prob3 = GMM3.predict_proba(EstaturasVT)\n",
    "print(\"PROBABILIDAD\")\n",
    "pd.DataFrame(Prob3,columns=['Prob K1','Prob K2','Prob K3','Prob K4'])"
   ]
  },
  {
   "cell_type": "markdown",
   "id": "numerous-establishment",
   "metadata": {},
   "source": [
    "**PRUEBA 4**"
   ]
  },
  {
   "cell_type": "code",
   "execution_count": 35,
   "id": "bright-acquisition",
   "metadata": {},
   "outputs": [
    {
     "name": "stdout",
     "output_type": "stream",
     "text": [
      "[0.20399847 0.04347826 0.24727015 0.4397062  0.06554692]\n",
      "[[ 1.67897568 27.8123578 ]\n",
      " [ 1.84       51.        ]\n",
      " [ 1.73048713 32.97000029]\n",
      " [ 1.7478479  24.64599493]\n",
      " [ 1.73406862 40.29442874]]\n",
      "[[[ 3.66016528e-03 -3.85756599e-02]\n",
      "  [-3.85756599e-02  1.43508029e+00]]\n",
      "\n",
      " [[ 1.01000000e-04 -2.00000000e-02]\n",
      "  [-2.00000000e-02  4.00000100e+00]]\n",
      "\n",
      " [[ 3.32677647e-03  4.42590700e-02]\n",
      "  [ 4.42590700e-02  2.08026463e+00]]\n",
      "\n",
      " [[ 5.75460727e-03 -1.68678236e-02]\n",
      "  [-1.68678236e-02  2.51377356e+00]]\n",
      "\n",
      " [[ 3.95833928e-03 -9.87216938e-02]\n",
      "  [-9.87216938e-02  4.46170031e+00]]]\n"
     ]
    },
    {
     "data": {
      "image/png": "[encoded data removed]",
      "text/plain": [
       "<Figure size 432x288 with 1 Axes>"
      ]
     },
     "metadata": {
      "needs_background": "light"
     },
     "output_type": "display_data"
    }
   ],
   "source": [
    "GMM4 = GaussianMixture(n_components=K4, random_state=0)\n",
    "GMM4.fit(Estaturas)\n",
    "print(GMM4.weights_)\n",
    "print(GMM4.means_)\n",
    "print(GMM4.covariances_)\n",
    "Pred4 = GMM4.predict(Estaturas)\n",
    "\n",
    "plt.scatter(Estaturas.iloc[:, 0], Estaturas.iloc[:, 1], c=Pred4);"
   ]
  },
  {
   "cell_type": "code",
   "execution_count": 50,
   "id": "cloudy-tucson",
   "metadata": {},
   "outputs": [
    {
     "name": "stdout",
     "output_type": "stream",
     "text": [
      "PROBABILIDAD\n"
     ]
    },
    {
     "data": {
      "text/html": [
       "<div>\n",
       "<style scoped>\n",
       "    .dataframe tbody tr th:only-of-type {\n",
       "        vertical-align: middle;\n",
       "    }\n",
       "\n",
       "    .dataframe tbody tr th {\n",
       "        vertical-align: top;\n",
       "    }\n",
       "\n",
       "    .dataframe thead th {\n",
       "        text-align: right;\n",
       "    }\n",
       "</style>\n",
       "<table border=\"1\" class=\"dataframe\">\n",
       "  <thead>\n",
       "    <tr style=\"text-align: right;\">\n",
       "      <th></th>\n",
       "      <th>Prob K1</th>\n",
       "      <th>Prob K2</th>\n",
       "      <th>Prob K3</th>\n",
       "      <th>Prob K4</th>\n",
       "      <th>Prob K5</th>\n",
       "    </tr>\n",
       "  </thead>\n",
       "  <tbody>\n",
       "    <tr>\n",
       "      <th>0</th>\n",
       "      <td>0.040728</td>\n",
       "      <td>0.0</td>\n",
       "      <td>2.773676e-13</td>\n",
       "      <td>9.592725e-01</td>\n",
       "      <td>2.084071e-20</td>\n",
       "    </tr>\n",
       "    <tr>\n",
       "      <th>1</th>\n",
       "      <td>0.332125</td>\n",
       "      <td>0.0</td>\n",
       "      <td>1.668847e-07</td>\n",
       "      <td>6.678745e-01</td>\n",
       "      <td>6.357970e-16</td>\n",
       "    </tr>\n",
       "    <tr>\n",
       "      <th>2</th>\n",
       "      <td>0.263590</td>\n",
       "      <td>0.0</td>\n",
       "      <td>7.351682e-01</td>\n",
       "      <td>1.241778e-03</td>\n",
       "      <td>9.468406e-19</td>\n",
       "    </tr>\n",
       "    <tr>\n",
       "      <th>3</th>\n",
       "      <td>0.000002</td>\n",
       "      <td>0.0</td>\n",
       "      <td>9.999974e-01</td>\n",
       "      <td>5.024840e-07</td>\n",
       "      <td>2.564566e-07</td>\n",
       "    </tr>\n",
       "    <tr>\n",
       "      <th>4</th>\n",
       "      <td>0.039483</td>\n",
       "      <td>0.0</td>\n",
       "      <td>4.036229e-01</td>\n",
       "      <td>5.568917e-01</td>\n",
       "      <td>2.243610e-06</td>\n",
       "    </tr>\n",
       "    <tr>\n",
       "      <th>5</th>\n",
       "      <td>0.000004</td>\n",
       "      <td>0.0</td>\n",
       "      <td>9.999623e-01</td>\n",
       "      <td>3.402778e-05</td>\n",
       "      <td>1.822634e-07</td>\n",
       "    </tr>\n",
       "    <tr>\n",
       "      <th>6</th>\n",
       "      <td>0.000376</td>\n",
       "      <td>0.0</td>\n",
       "      <td>9.956654e-01</td>\n",
       "      <td>3.957726e-03</td>\n",
       "      <td>5.169672e-07</td>\n",
       "    </tr>\n",
       "    <tr>\n",
       "      <th>7</th>\n",
       "      <td>0.194323</td>\n",
       "      <td>0.0</td>\n",
       "      <td>8.045332e-01</td>\n",
       "      <td>1.143333e-03</td>\n",
       "      <td>4.816205e-18</td>\n",
       "    </tr>\n",
       "  </tbody>\n",
       "</table>\n",
       "</div>"
      ],
      "text/plain": [
       "    Prob K1  Prob K2       Prob K3       Prob K4       Prob K5\n",
       "0  0.040728      0.0  2.773676e-13  9.592725e-01  2.084071e-20\n",
       "1  0.332125      0.0  1.668847e-07  6.678745e-01  6.357970e-16\n",
       "2  0.263590      0.0  7.351682e-01  1.241778e-03  9.468406e-19\n",
       "3  0.000002      0.0  9.999974e-01  5.024840e-07  2.564566e-07\n",
       "4  0.039483      0.0  4.036229e-01  5.568917e-01  2.243610e-06\n",
       "5  0.000004      0.0  9.999623e-01  3.402778e-05  1.822634e-07\n",
       "6  0.000376      0.0  9.956654e-01  3.957726e-03  5.169672e-07\n",
       "7  0.194323      0.0  8.045332e-01  1.143333e-03  4.816205e-18"
      ]
     },
     "execution_count": 50,
     "metadata": {},
     "output_type": "execute_result"
    }
   ],
   "source": [
    "Prob4 = GMM4.predict_proba(EstaturasVT)\n",
    "print(\"PROBABILIDAD\")\n",
    "pd.DataFrame(Prob4,columns=['Prob K1','Prob K2','Prob K3','Prob K4','Prob K5'])"
   ]
  },
  {
   "cell_type": "markdown",
   "id": "attended-guidance",
   "metadata": {},
   "source": [
    "**PRUEBA 5**"
   ]
  },
  {
   "cell_type": "code",
   "execution_count": 36,
   "id": "municipal-kenya",
   "metadata": {},
   "outputs": [
    {
     "name": "stdout",
     "output_type": "stream",
     "text": [
      "[0.25702759 0.04347826 0.19393945 0.22537343 0.06576301 0.21441825]\n",
      "[[ 1.67291887 28.50326202]\n",
      " [ 1.84       51.        ]\n",
      " [ 1.75098362 33.49050991]\n",
      " [ 1.78247459 23.62793318]\n",
      " [ 1.73436409 40.27743685]\n",
      " [ 1.71281204 25.69379192]]\n",
      "[[[ 3.15315793e-03 -3.80124945e-02]\n",
      "  [-3.80124945e-02  3.06418760e+00]]\n",
      "\n",
      " [[ 1.01000000e-04 -2.00000000e-02]\n",
      "  [-2.00000000e-02  4.00000100e+00]]\n",
      "\n",
      " [[ 1.85238815e-03  5.60654231e-03]\n",
      "  [ 5.60654231e-03  1.21242223e+00]]\n",
      "\n",
      " [[ 3.27971154e-03  4.13235563e-02]\n",
      "  [ 4.13235563e-02  1.72299666e+00]]\n",
      "\n",
      " [[ 3.97803268e-03 -1.00190090e-01]\n",
      "  [-1.00190090e-01  4.54547565e+00]]\n",
      "\n",
      " [[ 5.84319248e-03 -2.90728813e-03]\n",
      "  [-2.90728813e-03  8.91663537e-01]]]\n"
     ]
    },
    {
     "data": {
      "image/png": "[encoded data removed]",
      "text/plain": [
       "<Figure size 432x288 with 1 Axes>"
      ]
     },
     "metadata": {
      "needs_background": "light"
     },
     "output_type": "display_data"
    }
   ],
   "source": [
    "GMM5 = GaussianMixture(n_components=K5, random_state=0)\n",
    "GMM5.fit(Estaturas)\n",
    "print(GMM5.weights_)\n",
    "print(GMM5.means_)\n",
    "print(GMM5.covariances_)\n",
    "Pred5 = GMM5.predict(Estaturas)\n",
    "\n",
    "plt.scatter(Estaturas.iloc[:, 0], Estaturas.iloc[:, 1], c=Pred5);"
   ]
  },
  {
   "cell_type": "code",
   "execution_count": 51,
   "id": "accredited-projection",
   "metadata": {},
   "outputs": [
    {
     "name": "stdout",
     "output_type": "stream",
     "text": [
      "PROBABILIDAD\n"
     ]
    },
    {
     "data": {
      "text/html": [
       "<div>\n",
       "<style scoped>\n",
       "    .dataframe tbody tr th:only-of-type {\n",
       "        vertical-align: middle;\n",
       "    }\n",
       "\n",
       "    .dataframe tbody tr th {\n",
       "        vertical-align: top;\n",
       "    }\n",
       "\n",
       "    .dataframe thead th {\n",
       "        text-align: right;\n",
       "    }\n",
       "</style>\n",
       "<table border=\"1\" class=\"dataframe\">\n",
       "  <thead>\n",
       "    <tr style=\"text-align: right;\">\n",
       "      <th></th>\n",
       "      <th>Prob K1</th>\n",
       "      <th>Prob K2</th>\n",
       "      <th>Prob K3</th>\n",
       "      <th>Prob K4</th>\n",
       "      <th>Prob K5</th>\n",
       "      <th>Prob K6</th>\n",
       "    </tr>\n",
       "  </thead>\n",
       "  <tbody>\n",
       "    <tr>\n",
       "      <th>0</th>\n",
       "      <td>0.017208</td>\n",
       "      <td>0.0</td>\n",
       "      <td>6.795702e-15</td>\n",
       "      <td>6.886905e-01</td>\n",
       "      <td>3.166280e-20</td>\n",
       "      <td>2.941010e-01</td>\n",
       "    </tr>\n",
       "    <tr>\n",
       "      <th>1</th>\n",
       "      <td>0.263257</td>\n",
       "      <td>0.0</td>\n",
       "      <td>2.555593e-08</td>\n",
       "      <td>6.624451e-02</td>\n",
       "      <td>1.582720e-15</td>\n",
       "      <td>6.704983e-01</td>\n",
       "    </tr>\n",
       "    <tr>\n",
       "      <th>2</th>\n",
       "      <td>0.997899</td>\n",
       "      <td>0.0</td>\n",
       "      <td>2.100398e-03</td>\n",
       "      <td>3.878775e-19</td>\n",
       "      <td>6.235436e-19</td>\n",
       "      <td>2.555746e-07</td>\n",
       "    </tr>\n",
       "    <tr>\n",
       "      <th>3</th>\n",
       "      <td>0.622069</td>\n",
       "      <td>0.0</td>\n",
       "      <td>3.779313e-01</td>\n",
       "      <td>8.551125e-34</td>\n",
       "      <td>1.447064e-07</td>\n",
       "      <td>2.924331e-19</td>\n",
       "    </tr>\n",
       "    <tr>\n",
       "      <th>4</th>\n",
       "      <td>0.758897</td>\n",
       "      <td>0.0</td>\n",
       "      <td>2.393506e-01</td>\n",
       "      <td>9.654553e-05</td>\n",
       "      <td>1.554682e-06</td>\n",
       "      <td>1.654012e-03</td>\n",
       "    </tr>\n",
       "    <tr>\n",
       "      <th>5</th>\n",
       "      <td>0.010384</td>\n",
       "      <td>0.0</td>\n",
       "      <td>9.896161e-01</td>\n",
       "      <td>6.312843e-14</td>\n",
       "      <td>2.416333e-07</td>\n",
       "      <td>2.666690e-10</td>\n",
       "    </tr>\n",
       "    <tr>\n",
       "      <th>6</th>\n",
       "      <td>0.097857</td>\n",
       "      <td>0.0</td>\n",
       "      <td>9.021410e-01</td>\n",
       "      <td>5.513207e-09</td>\n",
       "      <td>6.156518e-07</td>\n",
       "      <td>1.093435e-06</td>\n",
       "    </tr>\n",
       "    <tr>\n",
       "      <th>7</th>\n",
       "      <td>0.996185</td>\n",
       "      <td>0.0</td>\n",
       "      <td>3.814644e-03</td>\n",
       "      <td>1.586380e-18</td>\n",
       "      <td>3.577643e-18</td>\n",
       "      <td>2.596076e-07</td>\n",
       "    </tr>\n",
       "  </tbody>\n",
       "</table>\n",
       "</div>"
      ],
      "text/plain": [
       "    Prob K1  Prob K2       Prob K3       Prob K4       Prob K5       Prob K6\n",
       "0  0.017208      0.0  6.795702e-15  6.886905e-01  3.166280e-20  2.941010e-01\n",
       "1  0.263257      0.0  2.555593e-08  6.624451e-02  1.582720e-15  6.704983e-01\n",
       "2  0.997899      0.0  2.100398e-03  3.878775e-19  6.235436e-19  2.555746e-07\n",
       "3  0.622069      0.0  3.779313e-01  8.551125e-34  1.447064e-07  2.924331e-19\n",
       "4  0.758897      0.0  2.393506e-01  9.654553e-05  1.554682e-06  1.654012e-03\n",
       "5  0.010384      0.0  9.896161e-01  6.312843e-14  2.416333e-07  2.666690e-10\n",
       "6  0.097857      0.0  9.021410e-01  5.513207e-09  6.156518e-07  1.093435e-06\n",
       "7  0.996185      0.0  3.814644e-03  1.586380e-18  3.577643e-18  2.596076e-07"
      ]
     },
     "execution_count": 51,
     "metadata": {},
     "output_type": "execute_result"
    }
   ],
   "source": [
    "Prob5 = GMM5.predict_proba(EstaturasVT)\n",
    "print(\"PROBABILIDAD\")\n",
    "pd.DataFrame(Prob5,columns=['Prob K1','Prob K2','Prob K3','Prob K4','Prob K5','Prob K6'])"
   ]
  },
  {
   "cell_type": "markdown",
   "id": "chicken-poison",
   "metadata": {},
   "source": [
    "**Estimacion De Monte Carlo**"
   ]
  },
  {
   "cell_type": "code",
   "execution_count": 67,
   "id": "consolidated-helmet",
   "metadata": {},
   "outputs": [],
   "source": [
    "def f(estatura,edad):\n",
    "    return (estatura/edad)"
   ]
  },
  {
   "cell_type": "code",
   "execution_count": 68,
   "id": "dirty-header",
   "metadata": {},
   "outputs": [
    {
     "name": "stdout",
     "output_type": "stream",
     "text": [
      "VALOR ESPERADO PROMEDIO\n",
      "0.06098351278486633\n"
     ]
    }
   ],
   "source": [
    "muestra,cluster = GMM2.sample(1000)\n",
    "\n",
    "muestra_f = f(muestra[:,0],muestra[:,1])\n",
    "valor_esperado_f = np.mean(muestra_f)\n",
    "print(\"VALOR ESPERADO PROMEDIO\")\n",
    "print(valor_esperado_f)"
   ]
  }
 ],
 "metadata": {
  "kernelspec": {
   "display_name": "Python 3",
   "language": "python",
   "name": "python3"
  },
  "language_info": {
   "codemirror_mode": {
    "name": "ipython",
    "version": 3
   },
   "file_extension": ".py",
   "mimetype": "text/x-python",
   "name": "python",
   "nbconvert_exporter": "python",
   "pygments_lexer": "ipython3",
   "version": "3.8.5"
  }
 },
 "nbformat": 4,
 "nbformat_minor": 5
}
