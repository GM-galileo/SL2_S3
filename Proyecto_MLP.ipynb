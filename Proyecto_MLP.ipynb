{
 "cells": [
  {
   "cell_type": "markdown",
   "id": "central-satellite",
   "metadata": {},
   "source": [
    "# **<font color=blue> PROYECTO FINAL**\n",
    "## <font color=blue> MLP - MULTI LAYER PERCEPTRON"
   ]
  },
  {
   "cell_type": "code",
   "execution_count": 18,
   "id": "useful-elevation",
   "metadata": {},
   "outputs": [],
   "source": [
    "import numpy as np\n",
    "import pandas as pd\n",
    "\n",
    "import tensorflow as tf\n",
    "from tensorflow import keras\n",
    "from tensorflow.keras import layers\n",
    "from keras.layers import Dropout\n",
    "from keras.models import Sequential, save_model, load_model\n",
    "from keras.layers import Dense\n",
    "from keras.layers import BatchNormalization\n",
    "\n",
    "from sklearn.model_selection import train_test_split as TTS\n",
    "from sklearn.neural_network import MLPClassifier as MLPC\n",
    "from sklearn import metrics\n",
    "from sklearn.metrics import auc\n",
    "from sklearn.metrics import roc_curve\n",
    "from sklearn.metrics import confusion_matrix\n",
    "from sklearn.metrics import average_precision_score\n",
    "from sklearn.metrics import precision_recall_curve\n",
    "from sklearn.metrics import plot_precision_recall_curve\n",
    "import matplotlib.pyplot as plt\n",
    "import seaborn as sns\n",
    "import warnings\n",
    "warnings.filterwarnings(\"ignore\")"
   ]
  },
  {
   "cell_type": "code",
   "execution_count": 2,
   "id": "chief-certification",
   "metadata": {},
   "outputs": [
    {
     "data": {
      "text/html": [
       "<div>\n",
       "<style scoped>\n",
       "    .dataframe tbody tr th:only-of-type {\n",
       "        vertical-align: middle;\n",
       "    }\n",
       "\n",
       "    .dataframe tbody tr th {\n",
       "        vertical-align: top;\n",
       "    }\n",
       "\n",
       "    .dataframe thead th {\n",
       "        text-align: right;\n",
       "    }\n",
       "</style>\n",
       "<table border=\"1\" class=\"dataframe\">\n",
       "  <thead>\n",
       "    <tr style=\"text-align: right;\">\n",
       "      <th></th>\n",
       "      <th>hash</th>\n",
       "      <th>t_0</th>\n",
       "      <th>t_1</th>\n",
       "      <th>t_2</th>\n",
       "      <th>t_3</th>\n",
       "      <th>t_4</th>\n",
       "      <th>t_5</th>\n",
       "      <th>t_6</th>\n",
       "      <th>t_7</th>\n",
       "      <th>t_8</th>\n",
       "      <th>...</th>\n",
       "      <th>t_91</th>\n",
       "      <th>t_92</th>\n",
       "      <th>t_93</th>\n",
       "      <th>t_94</th>\n",
       "      <th>t_95</th>\n",
       "      <th>t_96</th>\n",
       "      <th>t_97</th>\n",
       "      <th>t_98</th>\n",
       "      <th>t_99</th>\n",
       "      <th>malware</th>\n",
       "    </tr>\n",
       "  </thead>\n",
       "  <tbody>\n",
       "    <tr>\n",
       "      <th>0</th>\n",
       "      <td>071e8c3f8922e186e57548cd4c703a5d</td>\n",
       "      <td>112</td>\n",
       "      <td>274</td>\n",
       "      <td>158</td>\n",
       "      <td>215</td>\n",
       "      <td>274</td>\n",
       "      <td>158</td>\n",
       "      <td>215</td>\n",
       "      <td>298</td>\n",
       "      <td>76</td>\n",
       "      <td>...</td>\n",
       "      <td>71</td>\n",
       "      <td>297</td>\n",
       "      <td>135</td>\n",
       "      <td>171</td>\n",
       "      <td>215</td>\n",
       "      <td>35</td>\n",
       "      <td>208</td>\n",
       "      <td>56</td>\n",
       "      <td>71</td>\n",
       "      <td>1</td>\n",
       "    </tr>\n",
       "    <tr>\n",
       "      <th>1</th>\n",
       "      <td>33f8e6d08a6aae939f25a8e0d63dd523</td>\n",
       "      <td>82</td>\n",
       "      <td>208</td>\n",
       "      <td>187</td>\n",
       "      <td>208</td>\n",
       "      <td>172</td>\n",
       "      <td>117</td>\n",
       "      <td>172</td>\n",
       "      <td>117</td>\n",
       "      <td>172</td>\n",
       "      <td>...</td>\n",
       "      <td>81</td>\n",
       "      <td>240</td>\n",
       "      <td>117</td>\n",
       "      <td>71</td>\n",
       "      <td>297</td>\n",
       "      <td>135</td>\n",
       "      <td>171</td>\n",
       "      <td>215</td>\n",
       "      <td>35</td>\n",
       "      <td>1</td>\n",
       "    </tr>\n",
       "    <tr>\n",
       "      <th>2</th>\n",
       "      <td>b68abd064e975e1c6d5f25e748663076</td>\n",
       "      <td>16</td>\n",
       "      <td>110</td>\n",
       "      <td>240</td>\n",
       "      <td>117</td>\n",
       "      <td>240</td>\n",
       "      <td>117</td>\n",
       "      <td>240</td>\n",
       "      <td>117</td>\n",
       "      <td>240</td>\n",
       "      <td>...</td>\n",
       "      <td>65</td>\n",
       "      <td>112</td>\n",
       "      <td>123</td>\n",
       "      <td>65</td>\n",
       "      <td>112</td>\n",
       "      <td>123</td>\n",
       "      <td>65</td>\n",
       "      <td>113</td>\n",
       "      <td>112</td>\n",
       "      <td>1</td>\n",
       "    </tr>\n",
       "    <tr>\n",
       "      <th>3</th>\n",
       "      <td>72049be7bd30ea61297ea624ae198067</td>\n",
       "      <td>82</td>\n",
       "      <td>208</td>\n",
       "      <td>187</td>\n",
       "      <td>208</td>\n",
       "      <td>172</td>\n",
       "      <td>117</td>\n",
       "      <td>172</td>\n",
       "      <td>117</td>\n",
       "      <td>172</td>\n",
       "      <td>...</td>\n",
       "      <td>208</td>\n",
       "      <td>302</td>\n",
       "      <td>208</td>\n",
       "      <td>302</td>\n",
       "      <td>187</td>\n",
       "      <td>208</td>\n",
       "      <td>302</td>\n",
       "      <td>228</td>\n",
       "      <td>302</td>\n",
       "      <td>1</td>\n",
       "    </tr>\n",
       "    <tr>\n",
       "      <th>4</th>\n",
       "      <td>c9b3700a77facf29172f32df6bc77f48</td>\n",
       "      <td>82</td>\n",
       "      <td>240</td>\n",
       "      <td>117</td>\n",
       "      <td>240</td>\n",
       "      <td>117</td>\n",
       "      <td>240</td>\n",
       "      <td>117</td>\n",
       "      <td>240</td>\n",
       "      <td>117</td>\n",
       "      <td>...</td>\n",
       "      <td>209</td>\n",
       "      <td>260</td>\n",
       "      <td>40</td>\n",
       "      <td>209</td>\n",
       "      <td>260</td>\n",
       "      <td>141</td>\n",
       "      <td>260</td>\n",
       "      <td>141</td>\n",
       "      <td>260</td>\n",
       "      <td>1</td>\n",
       "    </tr>\n",
       "  </tbody>\n",
       "</table>\n",
       "<p>5 rows × 102 columns</p>\n",
       "</div>"
      ],
      "text/plain": [
       "                               hash  t_0  t_1  t_2  t_3  t_4  t_5  t_6  t_7  \\\n",
       "0  071e8c3f8922e186e57548cd4c703a5d  112  274  158  215  274  158  215  298   \n",
       "1  33f8e6d08a6aae939f25a8e0d63dd523   82  208  187  208  172  117  172  117   \n",
       "2  b68abd064e975e1c6d5f25e748663076   16  110  240  117  240  117  240  117   \n",
       "3  72049be7bd30ea61297ea624ae198067   82  208  187  208  172  117  172  117   \n",
       "4  c9b3700a77facf29172f32df6bc77f48   82  240  117  240  117  240  117  240   \n",
       "\n",
       "   t_8  ...  t_91  t_92  t_93  t_94  t_95  t_96  t_97  t_98  t_99  malware  \n",
       "0   76  ...    71   297   135   171   215    35   208    56    71        1  \n",
       "1  172  ...    81   240   117    71   297   135   171   215    35        1  \n",
       "2  240  ...    65   112   123    65   112   123    65   113   112        1  \n",
       "3  172  ...   208   302   208   302   187   208   302   228   302        1  \n",
       "4  117  ...   209   260    40   209   260   141   260   141   260        1  \n",
       "\n",
       "[5 rows x 102 columns]"
      ]
     },
     "execution_count": 2,
     "metadata": {},
     "output_type": "execute_result"
    }
   ],
   "source": [
    "SM_filepath = './MLP'\n",
    "ds_MalwareO = pd.read_csv(\"./dynamic_api_call_sequence_per_malware_100_0_306.csv\")\n",
    "ds_MalwareO.head()"
   ]
  },
  {
   "cell_type": "code",
   "execution_count": 3,
   "id": "monthly-transition",
   "metadata": {},
   "outputs": [
    {
     "data": {
      "text/plain": [
       "(43876, 101)"
      ]
     },
     "execution_count": 3,
     "metadata": {},
     "output_type": "execute_result"
    }
   ],
   "source": [
    "#ELIMINACION DE FEATURES QUE NO APORTAN INFORMACION \n",
    "ds_Malware = ds_MalwareO.drop(columns=[\"hash\"],axis=1)\n",
    "ds_Malware.shape"
   ]
  },
  {
   "cell_type": "code",
   "execution_count": 4,
   "id": "exclusive-emission",
   "metadata": {},
   "outputs": [],
   "source": [
    "Y= ds_Malware[\"malware\"]\n",
    "X = ds_Malware.drop(columns=[\"malware\"])\n",
    "X_Train, X_Test, Y_Train, Y_Test = TTS(X,Y,test_size=0.2,random_state=9)"
   ]
  },
  {
   "cell_type": "markdown",
   "id": "infrared-stable",
   "metadata": {},
   "source": [
    "**UTILIZANDO KERAS**"
   ]
  },
  {
   "cell_type": "code",
   "execution_count": 5,
   "id": "associate-daniel",
   "metadata": {},
   "outputs": [],
   "source": [
    "model = Sequential()\n",
    "model.add(Dense(128, input_shape=(100,), activation='relu')),\n",
    "model.add(Dropout(0.5)),\n",
    "model.add(Dense(64, activation='relu')),\n",
    "model.add(Dropout(0.5)),\n",
    "model.add(Dense(32, activation='relu')),\n",
    "model.add(Dropout(0.5)),\n",
    "model.add(Dense(16, activation='relu')),\n",
    "model.add(Dropout(0.5)),\n",
    "model.add(Dense(8, activation='relu')),\n",
    "model.add(Dropout(0.5)),\n",
    "model.add(Dense(4, activation='relu')),\n",
    "model.add(Dropout(0.5)),\n",
    "model.add(Dense(1, activation='sigmoid'))\n",
    "#model.add(Dense(2, activation='softmax'))"
   ]
  },
  {
   "cell_type": "code",
   "execution_count": 24,
   "id": "contrary-senate",
   "metadata": {},
   "outputs": [],
   "source": [
    "Model_Optimizer = tf.keras.optimizers.Adam(learning_rate=0.01) \n",
    "model.compile(optimizer=Model_Optimizer, loss=tf.keras.losses.BinaryCrossentropy(), metrics=['accuracy']) \n",
    "Model_EarlyStop = tf.keras.callbacks.EarlyStopping(monitor='val_accuracy', min_delta=0, patience=15, verbose=1,mode='auto', baseline=None, restore_best_weights=False)\n",
    "Model_checkpoint= tf.keras.callbacks.ModelCheckpoint(filepath=SM_filepath,save_weights_only=False, monitor='val_accuracy',mode='max', save_best_only=True)"
   ]
  },
  {
   "cell_type": "code",
   "execution_count": 26,
   "id": "catholic-arrangement",
   "metadata": {},
   "outputs": [
    {
     "name": "stdout",
     "output_type": "stream",
     "text": [
      "INFO:tensorflow:Assets written to: ./MLP\\assets\n"
     ]
    }
   ],
   "source": [
    "Model_Fit = model.fit(X_Train.values, Y_Train.values, epochs = 10, batch_size=1000, validation_split = 0.15, verbose = 0, callbacks = [Model_EarlyStop,Model_checkpoint])\n",
    "Model_Fit_History = Model_Fit.history\n",
    "save_model(model, SM_filepath)"
   ]
  },
  {
   "cell_type": "code",
   "execution_count": 27,
   "id": "elegant-fashion",
   "metadata": {},
   "outputs": [
    {
     "data": {
      "text/plain": [
       "Text(0.5, 0, 'Epochs')"
      ]
     },
     "execution_count": 27,
     "metadata": {},
     "output_type": "execute_result"
    },
    {
     "data": {
      "image/png": "[encoded data removed]",
      "text/plain": [
       "<Figure size 432x288 with 1 Axes>"
      ]
     },
     "metadata": {
      "needs_background": "light"
     },
     "output_type": "display_data"
    }
   ],
   "source": [
    "Loss = Model_Fit_History['loss']\n",
    "Val_Loss = Model_Fit_History['val_loss']\n",
    "plt.plot(Loss,'g',label='Model - Training Loss')\n",
    "plt.plot(Val_Loss,'r',label='Model - Val Training Loss')\n",
    "plt.legend()\n",
    "plt.xlabel(\"Epochs\")"
   ]
  },
  {
   "cell_type": "code",
   "execution_count": 28,
   "id": "apparent-shopper",
   "metadata": {},
   "outputs": [
    {
     "data": {
      "text/plain": [
       "Text(0.5, 0, 'Epochs')"
      ]
     },
     "execution_count": 28,
     "metadata": {},
     "output_type": "execute_result"
    },
    {
     "data": {
      "image/png": "[encoded data removed]",
      "text/plain": [
       "<Figure size 432x288 with 1 Axes>"
      ]
     },
     "metadata": {
      "needs_background": "light"
     },
     "output_type": "display_data"
    }
   ],
   "source": [
    "Accuracy = Model_Fit_History['accuracy']\n",
    "Val_Accuracy = Model_Fit_History['val_accuracy']\n",
    "plt.plot(Accuracy,'-b',label='accuracy')\n",
    "plt.plot(Val_Accuracy,'-r',label='val_accuracy')\n",
    "plt.legend()\n",
    "plt.xlabel(\"Epochs\")"
   ]
  },
  {
   "cell_type": "code",
   "execution_count": 29,
   "id": "compatible-collectible",
   "metadata": {},
   "outputs": [
    {
     "data": {
      "text/html": [
       "<div>\n",
       "<style scoped>\n",
       "    .dataframe tbody tr th:only-of-type {\n",
       "        vertical-align: middle;\n",
       "    }\n",
       "\n",
       "    .dataframe tbody tr th {\n",
       "        vertical-align: top;\n",
       "    }\n",
       "\n",
       "    .dataframe thead th {\n",
       "        text-align: right;\n",
       "    }\n",
       "</style>\n",
       "<table border=\"1\" class=\"dataframe\">\n",
       "  <thead>\n",
       "    <tr style=\"text-align: right;\">\n",
       "      <th></th>\n",
       "      <th>MLP</th>\n",
       "      <th>Acurracy</th>\n",
       "    </tr>\n",
       "  </thead>\n",
       "  <tbody>\n",
       "    <tr>\n",
       "      <th>0</th>\n",
       "      <td>MLP Keras</td>\n",
       "      <td>0.971399</td>\n",
       "    </tr>\n",
       "  </tbody>\n",
       "</table>\n",
       "</div>"
      ],
      "text/plain": [
       "         MLP  Acurracy\n",
       "0  MLP Keras  0.971399"
      ]
     },
     "execution_count": 29,
     "metadata": {},
     "output_type": "execute_result"
    }
   ],
   "source": [
    "Pred_K_P = model.predict(X_Test)\n",
    "Accuracy_K =metrics.average_precision_score(Y_Test, Pred_K_P)\n",
    "MLP_K = pd.DataFrame({\n",
    "    'MLP': ['MLP Keras'],\n",
    "    'Acurracy': [Accuracy_K]\n",
    "})\n",
    "MLP_K"
   ]
  },
  {
   "cell_type": "markdown",
   "id": "australian-endorsement",
   "metadata": {},
   "source": [
    "**UTILIZANDO SKLEARN**"
   ]
  },
  {
   "cell_type": "code",
   "execution_count": 11,
   "id": "electric-wisdom",
   "metadata": {},
   "outputs": [
    {
     "data": {
      "text/plain": [
       "array([1, 1, 1, ..., 1, 1, 1], dtype=int64)"
      ]
     },
     "execution_count": 11,
     "metadata": {},
     "output_type": "execute_result"
    }
   ],
   "source": [
    "MLP = MLPC(solver='adam',hidden_layer_sizes=(100,100,100),max_iter=800,random_state=50)\n",
    "MLP.fit(X_Train, Y_Train)\n",
    "Pred = MLP.predict(X_Test)\n",
    "Pred"
   ]
  },
  {
   "cell_type": "code",
   "execution_count": 12,
   "id": "hindu-stadium",
   "metadata": {},
   "outputs": [
    {
     "data": {
      "text/html": [
       "<div>\n",
       "<style scoped>\n",
       "    .dataframe tbody tr th:only-of-type {\n",
       "        vertical-align: middle;\n",
       "    }\n",
       "\n",
       "    .dataframe tbody tr th {\n",
       "        vertical-align: top;\n",
       "    }\n",
       "\n",
       "    .dataframe thead th {\n",
       "        text-align: right;\n",
       "    }\n",
       "</style>\n",
       "<table border=\"1\" class=\"dataframe\">\n",
       "  <thead>\n",
       "    <tr style=\"text-align: right;\">\n",
       "      <th></th>\n",
       "      <th>MLP</th>\n",
       "      <th>F1</th>\n",
       "      <th>Acurracy</th>\n",
       "      <th>Precission</th>\n",
       "      <th>Recall</th>\n",
       "    </tr>\n",
       "  </thead>\n",
       "  <tbody>\n",
       "    <tr>\n",
       "      <th>0</th>\n",
       "      <td>MLP Sklearn</td>\n",
       "      <td>0.991214</td>\n",
       "      <td>0.982794</td>\n",
       "      <td>0.983376</td>\n",
       "      <td>0.999179</td>\n",
       "    </tr>\n",
       "  </tbody>\n",
       "</table>\n",
       "</div>"
      ],
      "text/plain": [
       "           MLP        F1  Acurracy  Precission    Recall\n",
       "0  MLP Sklearn  0.991214  0.982794    0.983376  0.999179"
      ]
     },
     "execution_count": 12,
     "metadata": {},
     "output_type": "execute_result"
    }
   ],
   "source": [
    "F1 = metrics.f1_score(Y_Test, Pred)\n",
    "Accuracy =metrics.accuracy_score(Y_Test, Pred)\n",
    "Precission = metrics.precision_score(Y_Test, Pred)\n",
    "Recall = metrics.recall_score(Y_Test, Pred)\n",
    "MLP_S = pd.DataFrame({\n",
    "    'MLP': ['MLP Sklearn'],\n",
    "    'F1': [F1],\n",
    "    'Acurracy': [Accuracy],\n",
    "    'Precission': [Precission],\n",
    "    'Recall': [Recall]\n",
    "})\n",
    "MLP_S"
   ]
  },
  {
   "cell_type": "code",
   "execution_count": 13,
   "id": "caring-lafayette",
   "metadata": {},
   "outputs": [
    {
     "name": "stdout",
     "output_type": "stream",
     "text": [
      "Average precision-recall score: 0.98\n"
     ]
    },
    {
     "data": {
      "image/png": "[encoded data removed]",
      "text/plain": [
       "<Figure size 432x288 with 1 Axes>"
      ]
     },
     "metadata": {
      "needs_background": "light"
     },
     "output_type": "display_data"
    }
   ],
   "source": [
    "average_precision = average_precision_score(Y_Test, Pred)\n",
    "disp = plot_precision_recall_curve(MLP,X_Train, Y_Train)\n",
    "disp.ax_.set_title('2-class Precision-Recall curve: ''AP={0:0.2f}'.format(average_precision))\n",
    "\n",
    "print('Average precision-recall score: {0:0.2f}'.format(average_precision))"
   ]
  },
  {
   "cell_type": "code",
   "execution_count": 22,
   "id": "moving-census",
   "metadata": {},
   "outputs": [
    {
     "data": {
      "image/png": "[encoded data removed]",
      "text/plain": [
       "<Figure size 360x360 with 2 Axes>"
      ]
     },
     "metadata": {
      "needs_background": "light"
     },
     "output_type": "display_data"
    }
   ],
   "source": [
    "ConM = confusion_matrix(Y_Test, Pred)\n",
    "f, ax = plt.subplots(figsize=(5,5))\n",
    "sns.heatmap(ConM, annot=True, linewidth=0.4, linecolor='black', fmt='g', ax=ax, cmap=\"BuPu\")\n",
    "plt.title('MLP- Matriz de Confusion')\n",
    "plt.xlabel('Y Pred')\n",
    "plt.ylabel('Y Test')\n",
    "plt.show()"
   ]
  }
 ],
 "metadata": {
  "kernelspec": {
   "display_name": "Python 3",
   "language": "python",
   "name": "python3"
  },
  "language_info": {
   "codemirror_mode": {
    "name": "ipython",
    "version": 3
   },
   "file_extension": ".py",
   "mimetype": "text/x-python",
   "name": "python",
   "nbconvert_exporter": "python",
   "pygments_lexer": "ipython3",
   "version": "3.8.5"
  }
 },
 "nbformat": 4,
 "nbformat_minor": 5
}
