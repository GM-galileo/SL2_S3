{
 "cells": [
  {
   "cell_type": "markdown",
   "id": "running-evaluation",
   "metadata": {},
   "source": [
    "# <font color=blue>**TAREA 3**"
   ]
  },
  {
   "cell_type": "code",
   "execution_count": 5,
   "id": "intimate-sandwich",
   "metadata": {},
   "outputs": [],
   "source": [
    "import numpy as np\n",
    "import pandas as pd\n",
    "import matplotlib.pyplot as plt\n",
    "\n",
    "from sklearn.preprocessing import PolynomialFeatures"
   ]
  },
  {
   "cell_type": "code",
   "execution_count": 26,
   "id": "premium-circuit",
   "metadata": {},
   "outputs": [],
   "source": [
    "PreciosCasas = np.load('proyecto_training_data.npy')\n",
    "Variables1 = PreciosCasas[:,1:2]\n",
    "Variables2 = PreciosCasas[:,1:3]\n",
    "Variables3 = PreciosCasas[:,1:4]"
   ]
  },
  {
   "cell_type": "markdown",
   "id": "molecular-excess",
   "metadata": {},
   "source": [
    "**1 Varariable de Decision**"
   ]
  },
  {
   "cell_type": "code",
   "execution_count": 30,
   "id": "impressive-rugby",
   "metadata": {},
   "outputs": [
    {
     "data": {
      "text/plain": [
       "(1460, 2)"
      ]
     },
     "execution_count": 30,
     "metadata": {},
     "output_type": "execute_result"
    }
   ],
   "source": [
    "poly = PolynomialFeatures(1)\n",
    "poly.fit_transform(Variables1).shape"
   ]
  },
  {
   "cell_type": "code",
   "execution_count": 31,
   "id": "indian-valve",
   "metadata": {},
   "outputs": [
    {
     "data": {
      "text/plain": [
       "(1460, 3)"
      ]
     },
     "execution_count": 31,
     "metadata": {},
     "output_type": "execute_result"
    }
   ],
   "source": [
    "poly = PolynomialFeatures(1)\n",
    "poly.fit_transform(Variables2).shape"
   ]
  },
  {
   "cell_type": "code",
   "execution_count": 32,
   "id": "internal-device",
   "metadata": {},
   "outputs": [
    {
     "data": {
      "text/plain": [
       "(1460, 4)"
      ]
     },
     "execution_count": 32,
     "metadata": {},
     "output_type": "execute_result"
    }
   ],
   "source": [
    "poly = PolynomialFeatures(3)\n",
    "poly.fit_transform(Variables1).shape"
   ]
  },
  {
   "cell_type": "markdown",
   "id": "arabic-harbor",
   "metadata": {},
   "source": [
    "**2 Varariables de Decision**"
   ]
  },
  {
   "cell_type": "code",
   "execution_count": 34,
   "id": "amber-continent",
   "metadata": {},
   "outputs": [
    {
     "data": {
      "text/plain": [
       "(1460, 3)"
      ]
     },
     "execution_count": 34,
     "metadata": {},
     "output_type": "execute_result"
    }
   ],
   "source": [
    "poly2 = PolynomialFeatures(1)\n",
    "poly2.fit_transform(Variables2).shape"
   ]
  },
  {
   "cell_type": "code",
   "execution_count": 35,
   "id": "extensive-anderson",
   "metadata": {},
   "outputs": [
    {
     "data": {
      "text/plain": [
       "(1460, 6)"
      ]
     },
     "execution_count": 35,
     "metadata": {},
     "output_type": "execute_result"
    }
   ],
   "source": [
    "poly2 = PolynomialFeatures(2)\n",
    "poly2.fit_transform(Variables2).shape"
   ]
  },
  {
   "cell_type": "code",
   "execution_count": 36,
   "id": "ongoing-pacific",
   "metadata": {},
   "outputs": [
    {
     "data": {
      "text/plain": [
       "(1460, 10)"
      ]
     },
     "execution_count": 36,
     "metadata": {},
     "output_type": "execute_result"
    }
   ],
   "source": [
    "poly2 = PolynomialFeatures(3)\n",
    "poly2.fit_transform(Variables2).shape"
   ]
  },
  {
   "cell_type": "markdown",
   "id": "intensive-westminster",
   "metadata": {},
   "source": [
    "**3 Varariables de Decision**"
   ]
  },
  {
   "cell_type": "code",
   "execution_count": 38,
   "id": "disabled-startup",
   "metadata": {},
   "outputs": [
    {
     "data": {
      "text/plain": [
       "(1460, 4)"
      ]
     },
     "execution_count": 38,
     "metadata": {},
     "output_type": "execute_result"
    }
   ],
   "source": [
    "poly3 = PolynomialFeatures(1)\n",
    "poly3.fit_transform(Variables3).shape"
   ]
  },
  {
   "cell_type": "code",
   "execution_count": 40,
   "id": "educated-affiliation",
   "metadata": {},
   "outputs": [
    {
     "data": {
      "text/plain": [
       "(1460, 10)"
      ]
     },
     "execution_count": 40,
     "metadata": {},
     "output_type": "execute_result"
    }
   ],
   "source": [
    "poly3 = PolynomialFeatures(2)\n",
    "poly3.fit_transform(Variables3).shape"
   ]
  },
  {
   "cell_type": "code",
   "execution_count": 41,
   "id": "meaning-calendar",
   "metadata": {},
   "outputs": [
    {
     "data": {
      "text/plain": [
       "(1460, 20)"
      ]
     },
     "execution_count": 41,
     "metadata": {},
     "output_type": "execute_result"
    }
   ],
   "source": [
    "poly3 = PolynomialFeatures(3)\n",
    "poly3.fit_transform(Variables3).shape"
   ]
  },
  {
   "cell_type": "markdown",
   "id": "silent-reaction",
   "metadata": {},
   "source": [
    "Se puede observar que mientras sube el grado del polinomio sube el numero de variables devueltas por la funcion polinomial lo cual aumenta la complejidad y disminuye la habilidad de generalizacion de un modelo"
   ]
  }
 ],
 "metadata": {
  "kernelspec": {
   "display_name": "Python 3",
   "language": "python",
   "name": "python3"
  },
  "language_info": {
   "codemirror_mode": {
    "name": "ipython",
    "version": 3
   },
   "file_extension": ".py",
   "mimetype": "text/x-python",
   "name": "python",
   "nbconvert_exporter": "python",
   "pygments_lexer": "ipython3",
   "version": "3.8.5"
  }
 },
 "nbformat": 4,
 "nbformat_minor": 5
}
