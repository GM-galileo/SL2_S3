{
 "cells": [
  {
   "cell_type": "markdown",
   "id": "neither-grant",
   "metadata": {},
   "source": [
    "# <font color=blue>**TAREA 2**"
   ]
  },
  {
   "cell_type": "code",
   "execution_count": 2,
   "id": "instant-devil",
   "metadata": {},
   "outputs": [],
   "source": [
    "import numpy as np\n",
    "import pandas as pd\n",
    "import tensorflow as tf\n",
    "import matplotlib.pyplot as plt\n",
    "\n",
    "from numpy import genfromtxt\n",
    "from scipy.stats import multivariate_normal\n",
    "from sklearn.metrics import f1_score\n",
    "from sklearn.model_selection import train_test_split\n",
    "from sklearn.preprocessing import StandardScaler"
   ]
  },
  {
   "cell_type": "markdown",
   "id": "unable-colonial",
   "metadata": {},
   "source": [
    "## <font color=blue>**Parte 2.1 - Deteccion de Anomalias**"
   ]
  },
  {
   "cell_type": "markdown",
   "id": "narrative-relay",
   "metadata": {},
   "source": [
    "- Usando el dataset de estaturas(en google drive) aplicar detección de anomalías\n",
    "    - Usar como training-set la primera pestaña “normales” (y=0)\n",
    "    - La segunda pestaña “valtest(normales)” contiene datos normales(y=0):\n",
    "        - Usar la mitad para cross-validation\n",
    "        - Usar la mitad para testing\n",
    "    - La tercera pestaña “valtest(anomalias)” contiene anomalías(y=1):\n",
    "        - Usar la mitad para cross-validation \n",
    "        - Usar la mitad para testing\n",
    "- Los datos de cross-validation deben ser usados para selección de hyper-parámetros(por ejemplo el umbral epsilon) y/o selección de transformaciones a aplicar a las variables.\n",
    "- Usar los datos de testing para reportar las métricas de evaluación apropiadas\n",
    "- Es permitido usar librerías estadísticas(por ejemplo scipy.stats) para cosas como:\n",
    "    - Estimación de parámetros(función de densidad)\n",
    "    - Cálculo de densidades y/o probabilidades con la función de densidad estimada\n"
   ]
  },
  {
   "cell_type": "code",
   "execution_count": null,
   "id": "interstate-choice",
   "metadata": {},
   "outputs": [],
   "source": [
    "EstaturasN = pd.read_excel('estaturas.xlsx','normales',dtype={'statura(metros)': float, 'Edad(años)': float})\n",
    "EstaturasVT = pd.read_excel('estaturas.xlsx','valtest(normales)',dtype={'statura(metros)': float, 'Edad(años)': float})\n",
    "EstaturasVA = pd.read_excel('estaturas.xlsx','valtest(anomalias)',dtype={'Estatura': float, 'Edad': float})\n",
    "EstaturasVA"
   ]
  },
  {
   "cell_type": "code",
   "execution_count": null,
   "id": "agreed-intake",
   "metadata": {},
   "outputs": [],
   "source": [
    "#SPLIT DE DATOS\n",
    "VT_Cross, VT_Test = train_test_split(EstaturasVT, test_size=0.5)\n",
    "VA_Cross, VA_Test = train_test_split(EstaturasVA, test_size=0.5)\n",
    "\n",
    "EstaturasC = np.vstack((np.array(VT_Cross),np.array(VA_Cross)))\n",
    "EstaturasT = np.vstack((np.array(VT_Test),np.array(VA_Test)))\n",
    "EstaturasL = np.concatenate((np.zeros(VT_Cross.shape[0]),np.ones(VA_Cross.shape[0])))"
   ]
  },
  {
   "cell_type": "code",
   "execution_count": null,
   "id": "handy-dealing",
   "metadata": {},
   "outputs": [],
   "source": [
    "def Calculo_MeanSD(Data):\n",
    "    Mean = np.mean(Data, axis=0)\n",
    "    StandardD = np.cov(Data.T)    \n",
    "    return Mean, StandardD"
   ]
  },
  {
   "cell_type": "code",
   "execution_count": null,
   "id": "indoor-reading",
   "metadata": {},
   "outputs": [],
   "source": [
    "def Calculo_Densidad(Data,Mean, StandardD):\n",
    "    return multivariate_normal(mean =Mean, cov= StandardD ).pdf(Data)"
   ]
  },
  {
   "cell_type": "code",
   "execution_count": null,
   "id": "occupied-headset",
   "metadata": {},
   "outputs": [],
   "source": [
    "def DeteccionAnomalia_Training(Data_Train, Data_Cross, Data_Label):\n",
    "    \n",
    "    m1, sd1 = Calculo_MeanSD(Data_Train)\n",
    "    prob = Calculo_Densidad(Data_Train, m1,sd1)\n",
    "    \n",
    "    prob_a = Calculo_Densidad(Data_Cross, m1, sd1)\n",
    "    \n",
    "    best_epsilon = 0\n",
    "    best_f1 = 0\n",
    "    f = 0\n",
    "    stepsize = (max(prob_a) - min(prob_a)) / 1000\n",
    "    epsilons = np.arange(min(prob_a),max(prob_a),stepsize)\n",
    "    for epsilon in np.nditer(epsilons):\n",
    "        predictions = (prob_a < epsilon) \n",
    "        f = f1_score(Data_Label, predictions,average='binary')\n",
    "        if f > best_f1:\n",
    "            best_f1 = f\n",
    "            best_epsilon = epsilon\n",
    "    \n",
    "    return best_f1, best_epsilon, m1, sd1\n"
   ]
  },
  {
   "cell_type": "code",
   "execution_count": null,
   "id": "dimensional-alignment",
   "metadata": {},
   "outputs": [],
   "source": [
    "f1, epsilon, m, sd = DeteccionAnomalia_Training(EstaturasN, EstaturasC, EstaturasL)"
   ]
  },
  {
   "cell_type": "code",
   "execution_count": null,
   "id": "legitimate-fabric",
   "metadata": {},
   "outputs": [],
   "source": [
    "def DeteccionAnomalia_Prediction(Data_Test, epsilon, m, sd):\n",
    "    prob = Calculo_Densidad(Data_Test, m, sd)\n",
    "            \n",
    "    return prob<epsilon"
   ]
  },
  {
   "cell_type": "code",
   "execution_count": null,
   "id": "important-peter",
   "metadata": {},
   "outputs": [],
   "source": [
    "DeteccionAnomalia = DeteccionAnomalia_Prediction(EstaturasT, epsilon, m, sd)\n",
    "print(DeteccionAnomalia)"
   ]
  },
  {
   "cell_type": "code",
   "execution_count": null,
   "id": "chronic-tracker",
   "metadata": {},
   "outputs": [],
   "source": [
    "print(\"Anomalias\")\n",
    "print(EstaturasT[DeteccionAnomalia])"
   ]
  },
  {
   "cell_type": "markdown",
   "id": "direct-vienna",
   "metadata": {},
   "source": [
    "## <font color=blue>**Parte 2.2 - Reduccion de Dimensionalidad**"
   ]
  },
  {
   "cell_type": "markdown",
   "id": "endangered-columbus",
   "metadata": {},
   "source": [
    "Usando el dataset de fashion MNIST realizar:\n",
    "- PCA sin sklearn para reducir a 2 dimensiones.\n",
    "    - Anotar la cantidad de varianza preservada.\n",
    "- t-sne con sklearn para reducir a 2 dimensiones.\n",
    "- Analizar ambas representaciones, comparar y concluir.\n",
    "- Aplicar clustering con sklearn sobre la representación reducida. \n",
    "- Ya que este dataset si posee etiquetas “y” (tipo de prenda) analizar si los clusters encontrados tienden a agrupar el mismo tipo de prenda o prendas similares(por ejemplo se puede graficar cada tipo de diferente color)\n",
    "- Agregar conclusiones finales. "
   ]
  },
  {
   "cell_type": "code",
   "execution_count": 3,
   "id": "alpine-seeking",
   "metadata": {},
   "outputs": [],
   "source": [
    "from tensorflow import keras"
   ]
  },
  {
   "cell_type": "code",
   "execution_count": 4,
   "id": "bearing-canyon",
   "metadata": {},
   "outputs": [],
   "source": [
    "FMist = keras.datasets.fashion_mnist\n",
    "(train_images, train_labels), (test_images, test_labels) = FMist.load_data()"
   ]
  },
  {
   "cell_type": "code",
   "execution_count": 5,
   "id": "strategic-workshop",
   "metadata": {},
   "outputs": [
    {
     "data": {
      "text/plain": [
       "array([0, 1, 2, 3, 4, 5, 6, 7, 8, 9], dtype=uint8)"
      ]
     },
     "execution_count": 5,
     "metadata": {},
     "output_type": "execute_result"
    }
   ],
   "source": [
    "np.unique(train_labels)"
   ]
  },
  {
   "cell_type": "code",
   "execution_count": 6,
   "id": "heard-beginning",
   "metadata": {},
   "outputs": [
    {
     "data": {
      "text/plain": [
       "(60000, 28, 28)"
      ]
     },
     "execution_count": 6,
     "metadata": {},
     "output_type": "execute_result"
    }
   ],
   "source": [
    "train_images.shape"
   ]
  },
  {
   "cell_type": "code",
   "execution_count": 7,
   "id": "moderate-relation",
   "metadata": {},
   "outputs": [
    {
     "data": {
      "text/plain": [
       "(60000, 784)"
      ]
     },
     "execution_count": 7,
     "metadata": {},
     "output_type": "execute_result"
    }
   ],
   "source": [
    "# reshape dataset \n",
    "n, v1, v2 = train_images.shape\n",
    "train_imagesRS = train_images.reshape((n,v1*v2))\n",
    "train_imagesRS.shape"
   ]
  },
  {
   "cell_type": "code",
   "execution_count": 22,
   "id": "inside-configuration",
   "metadata": {},
   "outputs": [
    {
     "data": {
      "text/plain": [
       "(60000, 784)"
      ]
     },
     "execution_count": 22,
     "metadata": {},
     "output_type": "execute_result"
    }
   ],
   "source": [
    "from sklearn import decomposition\n",
    "ss = StandardScaler()\n",
    "train_imagesRS_PCA = ss.fit_transform(train_imagesRS)\n",
    "train_imagesRS_PCA .shape"
   ]
  },
  {
   "cell_type": "markdown",
   "id": "surgical-belfast",
   "metadata": {},
   "source": [
    "**PCA**"
   ]
  },
  {
   "cell_type": "code",
   "execution_count": 23,
   "id": "light-vatican",
   "metadata": {},
   "outputs": [],
   "source": [
    "#Calculo matriz de covarianza\n",
    "CovM = np.cov(train_imagesRS_PCA.T)\n",
    "#Calculo de eigen values\n",
    "eigen_val, eigen_vec = np.linalg.eig(CovM)"
   ]
  },
  {
   "cell_type": "code",
   "execution_count": 24,
   "id": "patent-monday",
   "metadata": {},
   "outputs": [
    {
     "data": {
      "text/plain": [
       "array([0.22083547, 0.3649818 , 0.41959356, 0.47048042, 0.51102929,\n",
       "       0.5412244 , 0.56869979, 0.59183633, 0.6087627 , 0.62194313,\n",
       "       0.63364417, 0.64326781, 0.65233222, 0.66094229, 0.66837236,\n",
       "       0.67567561, 0.68229119, 0.68860634, 0.69482572, 0.70066855,\n",
       "       0.70590244, 0.71101365, 0.71574898, 0.72024978, 0.72463682,\n",
       "       0.72880767, 0.73279107, 0.73669652, 0.74047317, 0.74420843,\n",
       "       0.74783961, 0.75135582, 0.75471624, 0.75802548, 0.76130592,\n",
       "       0.76448097, 0.76753302, 0.77049963, 0.77334658, 0.77617726,\n",
       "       0.77893312, 0.78161448, 0.78423821, 0.78678351, 0.78925873,\n",
       "       0.79166115, 0.7940409 , 0.79632468, 0.79854539, 0.80070595,\n",
       "       0.80281054, 0.80488254, 0.80691145, 0.80891752, 0.81090622,\n",
       "       0.81284754, 0.81473285, 0.81658211, 0.81838592, 0.82015474,\n",
       "       0.82190309, 0.82361652, 0.82530946, 0.82694574, 0.8285559 ,\n",
       "       0.83015237, 0.83168996, 0.83319818, 0.83468497, 0.83614683,\n",
       "       0.8376036 , 0.83903499, 0.84044351, 0.84183074, 0.8431963 ,\n",
       "       0.84455386, 0.84589726, 0.84720304, 0.84849542, 0.8497602 ,\n",
       "       0.85101658, 0.85224214, 0.85344912, 0.85464833, 0.85581085,\n",
       "       0.85694679, 0.85806908, 0.8591876 , 0.86029354, 0.86138877,\n",
       "       0.86246534, 0.86353314, 0.86458713, 0.86563143, 0.86664971,\n",
       "       0.86765219, 0.86863975, 0.86962019, 0.87058563, 0.87154021,\n",
       "       0.87248915, 0.87342681, 0.87435309, 0.87526665, 0.87617606,\n",
       "       0.87707268, 0.87796099, 0.87884063, 0.87970548, 0.88055812,\n",
       "       0.88140374, 0.88224262, 0.88306949, 0.88388063, 0.88468544,\n",
       "       0.88548302, 0.88627531, 0.88706607, 0.88784333, 0.88861565,\n",
       "       0.88938232, 0.89013815, 0.89089119, 0.8916337 , 0.89236813,\n",
       "       0.89309303, 0.89381232, 0.89452427, 0.89522757, 0.89592833,\n",
       "       0.89662141, 0.89730719, 0.89798394, 0.89865222, 0.89931048,\n",
       "       0.89996446, 0.90060421, 0.90124172, 0.90187615, 0.90250661,\n",
       "       0.90312967, 0.90374827, 0.90435698, 0.90496034, 0.90555843,\n",
       "       0.90614982, 0.90673671, 0.9073193 , 0.9078992 , 0.9084723 ,\n",
       "       0.90904259, 0.9096082 , 0.91017245, 0.91072862, 0.91127808,\n",
       "       0.91182127, 0.91235969, 0.91289771, 0.91343305, 0.91395982,\n",
       "       0.91448468, 0.91500718, 0.91552184, 0.91603347, 0.91654079,\n",
       "       0.91704301, 0.91753937, 0.91803368, 0.91852462, 0.9190107 ,\n",
       "       0.9194916 , 0.91997112, 0.92044579, 0.92091948, 0.92138843,\n",
       "       0.92185364, 0.92231631, 0.92277526, 0.92323326, 0.9236851 ,\n",
       "       0.92413513, 0.92457941, 0.92502071, 0.92546039, 0.92589801,\n",
       "       0.9263315 , 0.92675542, 0.92717715, 0.92759426, 0.9280091 ,\n",
       "       0.92842264, 0.92883196, 0.92923999, 0.92964682, 0.93004957,\n",
       "       0.93044905, 0.93084312, 0.93123564, 0.93162645, 0.93201658,\n",
       "       0.93240161, 0.93278569, 0.93316648, 0.93354544, 0.93392006,\n",
       "       0.93429027, 0.93465812, 0.93502549, 0.93538851, 0.93574936,\n",
       "       0.93610894, 0.9364673 , 0.93682496, 0.93717759, 0.93752839,\n",
       "       0.93787624, 0.93822152, 0.93856465, 0.93890699, 0.93924661,\n",
       "       0.93958336, 0.93991899, 0.94025325, 0.94058603, 0.94091538,\n",
       "       0.94124202, 0.94156757, 0.94189068, 0.94221208, 0.9425323 ,\n",
       "       0.94284821, 0.94316267, 0.94347546, 0.94378635, 0.9440962 ,\n",
       "       0.94440459, 0.94471182, 0.94501544, 0.9453161 , 0.9456154 ,\n",
       "       0.94591406, 0.94621007, 0.94650428, 0.94679754, 0.94708778,\n",
       "       0.94737448, 0.94766078, 0.94794422, 0.94822642, 0.94850737,\n",
       "       0.94878784, 0.94906752, 0.94934468, 0.94961917, 0.94989246,\n",
       "       0.95016362, 0.95043284, 0.95070039, 0.95096664, 0.95123233,\n",
       "       0.95149661, 0.95175842, 0.9520181 , 0.95227684, 0.95253526,\n",
       "       0.95279316, 0.95304924, 0.95330376, 0.95355646, 0.95380844,\n",
       "       0.95405905, 0.95430802, 0.95455464, 0.95480118, 0.95504617,\n",
       "       0.95528972, 0.95553157, 0.95577317, 0.95601294, 0.95625159,\n",
       "       0.9564893 , 0.95672612, 0.95696105, 0.95719491, 0.95742718,\n",
       "       0.95765847, 0.95788754, 0.95811506, 0.95834203, 0.95856798,\n",
       "       0.95879325, 0.95901777, 0.95923999, 0.95946132, 0.9596819 ,\n",
       "       0.9599015 , 0.96011995, 0.960337  , 0.96055231, 0.9607672 ,\n",
       "       0.96097995, 0.96119213, 0.96140319, 0.96161264, 0.96182043,\n",
       "       0.96202742, 0.96223368, 0.9624394 , 0.96264386, 0.96284733,\n",
       "       0.96305026, 0.96325169, 0.96345268, 0.96365152, 0.96384918,\n",
       "       0.9640465 , 0.96424324, 0.96443896, 0.96463338, 0.96482671,\n",
       "       0.96501904, 0.96520987, 0.9654005 , 0.96558974, 0.96577864,\n",
       "       0.96596597, 0.96615192, 0.96633728, 0.96652103, 0.96670449,\n",
       "       0.96688567, 0.96706662, 0.96724733, 0.96742698, 0.96760587,\n",
       "       0.96778338, 0.96795982, 0.96813485, 0.96830883, 0.96848223,\n",
       "       0.96865494, 0.96882699, 0.96899778, 0.96916835, 0.96933835,\n",
       "       0.96950769, 0.96967517, 0.96984226, 0.97000817, 0.97017286,\n",
       "       0.97033674, 0.97050015, 0.97066298, 0.97082534, 0.97098736,\n",
       "       0.97114885, 0.9713088 , 0.97146832, 0.97162688, 0.9717845 ,\n",
       "       0.97194153, 0.97209842, 0.97225377, 0.97240805, 0.97256103,\n",
       "       0.97271372, 0.97286552, 0.97301682, 0.97316762, 0.97331742,\n",
       "       0.97346692, 0.97361584, 0.97376407, 0.97391144, 0.97405727,\n",
       "       0.974203  , 0.97434825, 0.97449283, 0.97463629, 0.97477969,\n",
       "       0.97492262, 0.97506465, 0.9752062 , 0.97534714, 0.97548793,\n",
       "       0.97562769, 0.97576655, 0.97590513, 0.97604368, 0.97618066,\n",
       "       0.97631748, 0.97645391, 0.97658937, 0.97672425, 0.97685799,\n",
       "       0.97699105, 0.97712341, 0.97725533, 0.97738703, 0.97751829,\n",
       "       0.97764883, 0.97777888, 0.97790742, 0.97803567, 0.978163  ,\n",
       "       0.97828962, 0.97841555, 0.97854092, 0.97866582, 0.9787903 ,\n",
       "       0.97891423, 0.97903778, 0.9791609 , 0.97928331, 0.97940489,\n",
       "       0.97952626, 0.979647  , 0.97976735, 0.9798867 , 0.98000574,\n",
       "       0.980124  , 0.9802419 , 0.98035946, 0.98047662, 0.98059331,\n",
       "       0.98070948, 0.98082495, 0.98093981, 0.98105389, 0.98116765,\n",
       "       0.98128083, 0.9813936 , 0.98150569, 0.98161746, 0.98172889,\n",
       "       0.98183905, 0.98194892, 0.98205834, 0.98216731, 0.98227617,\n",
       "       0.9823844 , 0.9824923 , 0.98259994, 0.98270672, 0.98281282,\n",
       "       0.98291846, 0.98302361, 0.98312823, 0.98323274, 0.98333666,\n",
       "       0.98344012, 0.98354299, 0.98364531, 0.98374719, 0.98384844,\n",
       "       0.9839492 , 0.98404981, 0.98414993, 0.98424977, 0.98434896,\n",
       "       0.9844477 , 0.98454614, 0.9846439 , 0.98474102, 0.98483796,\n",
       "       0.98493456, 0.98503105, 0.98512696, 0.98522263, 0.98531814,\n",
       "       0.98541249, 0.98550651, 0.98560034, 0.98569375, 0.98578661,\n",
       "       0.98587902, 0.98597103, 0.98606262, 0.98615399, 0.98624504,\n",
       "       0.98633545, 0.98642541, 0.98651527, 0.98660463, 0.98669363,\n",
       "       0.98678224, 0.98687042, 0.98695777, 0.98704482, 0.98713183,\n",
       "       0.98721852, 0.98730417, 0.98738948, 0.9874743 , 0.987559  ,\n",
       "       0.98764323, 0.98772714, 0.98781078, 0.98789395, 0.9879765 ,\n",
       "       0.98805881, 0.98814087, 0.98822269, 0.98830375, 0.98838473,\n",
       "       0.98846495, 0.98854506, 0.98862467, 0.98870373, 0.98878263,\n",
       "       0.98886113, 0.98893949, 0.98901768, 0.98909536, 0.98917269,\n",
       "       0.98924961, 0.98932608, 0.98940215, 0.98947772, 0.98955317,\n",
       "       0.98962836, 0.98970314, 0.98977765, 0.98985175, 0.9899257 ,\n",
       "       0.98999936, 0.99007248, 0.99014527, 0.99021743, 0.99028947,\n",
       "       0.99036142, 0.99043277, 0.99050368, 0.99057451, 0.99064526,\n",
       "       0.9907157 , 0.99078562, 0.99085487, 0.99092403, 0.99099286,\n",
       "       0.99106142, 0.99112944, 0.99119723, 0.99126484, 0.99133184,\n",
       "       0.99139852, 0.99146495, 0.99153097, 0.99159659, 0.99166216,\n",
       "       0.99172741, 0.99179224, 0.99185681, 0.99192103, 0.99198494,\n",
       "       0.99204865, 0.99211216, 0.99217511, 0.99223777, 0.99230025,\n",
       "       0.99236234, 0.99242417, 0.99248563, 0.99254689, 0.99260801,\n",
       "       0.9926689 , 0.99272903, 0.99278895, 0.99284876, 0.99290824,\n",
       "       0.99296753, 0.99302655, 0.99308532, 0.9931439 , 0.9932024 ,\n",
       "       0.99326046, 0.99331839, 0.99337565, 0.99343278, 0.99348952,\n",
       "       0.99354599, 0.99360217, 0.99365823, 0.99371382, 0.99376906,\n",
       "       0.99382411, 0.99387883, 0.99393336, 0.99398773, 0.99404145,\n",
       "       0.99409475, 0.99414793, 0.9942006 , 0.99425287, 0.99430504,\n",
       "       0.99435702, 0.99440863, 0.99446002, 0.99451136, 0.99456239,\n",
       "       0.99461294, 0.9946634 , 0.99471376, 0.99476352, 0.99481307,\n",
       "       0.99486238, 0.99491167, 0.99496043, 0.99500894, 0.99505723,\n",
       "       0.99510538, 0.99515318, 0.99520096, 0.9952484 , 0.99529542,\n",
       "       0.99534228, 0.99538867, 0.99543475, 0.99548065, 0.9955263 ,\n",
       "       0.99557165, 0.99561683, 0.99566179, 0.99570648, 0.99575107,\n",
       "       0.99579549, 0.99583954, 0.99588336, 0.99592703, 0.99597043,\n",
       "       0.99601353, 0.99605627, 0.99609897, 0.99614153, 0.99618371,\n",
       "       0.99622571, 0.99626752, 0.99630885, 0.99634979, 0.99639049,\n",
       "       0.99643101, 0.99647138, 0.9965116 , 0.99655146, 0.99659109,\n",
       "       0.99663067, 0.99667012, 0.9967093 , 0.99674824, 0.99678692,\n",
       "       0.99682537, 0.99686365, 0.99690183, 0.99693967, 0.99697725,\n",
       "       0.99701474, 0.99705175, 0.99708851, 0.99712511, 0.9971616 ,\n",
       "       0.99719786, 0.99723385, 0.99726943, 0.99730488, 0.99734018,\n",
       "       0.99737533, 0.99741037, 0.99744518, 0.99747986, 0.99751428,\n",
       "       0.99754853, 0.99758242, 0.99761621, 0.99764981, 0.99768328,\n",
       "       0.99771664, 0.99774941, 0.99778202, 0.99781432, 0.99784638,\n",
       "       0.99787812, 0.99790975, 0.99794114, 0.99797228, 0.99800328,\n",
       "       0.998034  , 0.99806444, 0.99809484, 0.99812501, 0.998155  ,\n",
       "       0.99818468, 0.99821428, 0.99824372, 0.99827269, 0.99830156,\n",
       "       0.99833029, 0.99835881, 0.99838714, 0.99841519, 0.99844312,\n",
       "       0.99847082, 0.99849834, 0.99852553, 0.99855254, 0.99857934,\n",
       "       0.99860592, 0.99863227, 0.99865834, 0.99868421, 0.99870995,\n",
       "       0.99873556, 0.99876087, 0.99878606, 0.99881099, 0.99883569,\n",
       "       0.99886033, 0.99888472, 0.99890903, 0.99893301, 0.99895686,\n",
       "       0.99898045, 0.99900382, 0.99902708, 0.99905006, 0.99907276,\n",
       "       0.99909529, 0.99911737, 0.99913941, 0.99916113, 0.9991827 ,\n",
       "       0.99920405, 0.99922532, 0.99924629, 0.99926702, 0.99928753,\n",
       "       0.9993078 , 0.99932778, 0.99934763, 0.99936731, 0.99938668,\n",
       "       0.99940587, 0.99942484, 0.99944361, 0.99946236, 0.99948082,\n",
       "       0.99949911, 0.99951721, 0.99953491, 0.99955251, 0.99956994,\n",
       "       0.99958721, 0.99960429, 0.99962121, 0.99963762, 0.99965394,\n",
       "       0.99966995, 0.99968569, 0.99970107, 0.99971618, 0.99973099,\n",
       "       0.99974573, 0.99976029, 0.99977466, 0.9997889 , 0.99980255,\n",
       "       0.9998161 , 0.99982938, 0.99984214, 0.99985483, 0.99986731,\n",
       "       0.99987924, 0.9998908 , 0.99990211, 0.99991291, 0.99992333,\n",
       "       0.99993365, 0.99994358, 0.99995309, 0.99996224, 0.99997109,\n",
       "       0.99997972, 0.99998755, 0.99999424, 1.        ])"
      ]
     },
     "execution_count": 24,
     "metadata": {},
     "output_type": "execute_result"
    }
   ],
   "source": [
    "total = sum(eigen_val)\n",
    "varianza = np.array([])\n",
    "for i in sorted(eigen_val, reverse=True):\n",
    "    varianza=np.append(varianza,(i / total)) \n",
    "cum_varianza = np.cumsum(varianza)\n",
    "cum_varianza"
   ]
  },
  {
   "cell_type": "code",
   "execution_count": 25,
   "id": "pressing-heritage",
   "metadata": {},
   "outputs": [],
   "source": [
    "eigen_info = [(np.abs(eigen_val[i]), eigen_vec[:, i]) for i in range(len(eigen_val))]\n",
    "eigen_info.sort(key=lambda k: k[0], reverse=True)"
   ]
  },
  {
   "cell_type": "code",
   "execution_count": 26,
   "id": "competitive-matthew",
   "metadata": {},
   "outputs": [
    {
     "name": "stdout",
     "output_type": "stream",
     "text": [
      "2 Dimensiones (Aprox 0.36 varianza) (784, 2)\n"
     ]
    }
   ],
   "source": [
    "#extraccion de valores \n",
    "pca_data = np.hstack((eigen_info[0][1][:, np.newaxis], eigen_info[1][1][:, np.newaxis]))\n",
    "print('2 Dimensiones (Aprox 0.36 varianza)', pca_data.shape)"
   ]
  },
  {
   "cell_type": "code",
   "execution_count": 27,
   "id": "juvenile-lottery",
   "metadata": {},
   "outputs": [
    {
     "data": {
      "text/plain": [
       "(2, 60000)"
      ]
     },
     "execution_count": 27,
     "metadata": {},
     "output_type": "execute_result"
    }
   ],
   "source": [
    "Z_PCA= np.matmul(pca_data.T,train_imagesRS_PCA.T)\n",
    "Z_PCA.shape"
   ]
  },
  {
   "cell_type": "markdown",
   "id": "headed-glucose",
   "metadata": {},
   "source": [
    "**Con Sklearn**"
   ]
  },
  {
   "cell_type": "code",
   "execution_count": 14,
   "id": "trying-martin",
   "metadata": {},
   "outputs": [],
   "source": [
    "pca = decomposition.PCA(n_components=2)\n",
    "pca_data2 = pca.fit_transform(train_imagesRS)"
   ]
  },
  {
   "cell_type": "code",
   "execution_count": 39,
   "id": "particular-active",
   "metadata": {},
   "outputs": [
    {
     "data": {
      "text/plain": [
       "array([[ -0.80117477,  20.86674867],\n",
       "       [ 17.07420598,  -4.96851249],\n",
       "       [ -9.60164085, -12.29610071],\n",
       "       ...,\n",
       "       [  9.37766441, -13.10585792],\n",
       "       [ -9.64563637,  -7.09528763],\n",
       "       [-21.31707928,  -1.74136728]])"
      ]
     },
     "execution_count": 39,
     "metadata": {},
     "output_type": "execute_result"
    }
   ],
   "source": [
    "pca_data2"
   ]
  },
  {
   "cell_type": "markdown",
   "id": "assured-treasure",
   "metadata": {},
   "source": [
    "**T-SNE**"
   ]
  },
  {
   "cell_type": "code",
   "execution_count": 28,
   "id": "correct-google",
   "metadata": {},
   "outputs": [],
   "source": [
    "from sklearn.manifold import TSNE"
   ]
  },
  {
   "cell_type": "code",
   "execution_count": null,
   "id": "excellent-explanation",
   "metadata": {},
   "outputs": [],
   "source": [
    "#%%time\n",
    "X_TSNE =  TSNE(n_components=2)\n",
    "Z_TSNE = X_TSNE.fit_transform(train_imagesRS)"
   ]
  },
  {
   "cell_type": "code",
   "execution_count": 30,
   "id": "thick-confidence",
   "metadata": {},
   "outputs": [
    {
     "name": "stdout",
     "output_type": "stream",
     "text": [
      "(60000, 2)\n"
     ]
    }
   ],
   "source": [
    "print(Z_TSNE.shape)"
   ]
  },
  {
   "cell_type": "markdown",
   "id": "numeric-chapter",
   "metadata": {},
   "source": [
    "**KMeans**"
   ]
  },
  {
   "cell_type": "code",
   "execution_count": 31,
   "id": "coated-architecture",
   "metadata": {},
   "outputs": [
    {
     "name": "stdout",
     "output_type": "stream",
     "text": [
      "[4 1 4 ... 1 1 2]\n",
      "[[-33.891685   17.817184 ]\n",
      " [  8.254221  -29.378826 ]\n",
      " [  6.9092145  30.345934 ]\n",
      " [ 33.893467   -0.7436141]\n",
      " [-25.188515  -15.906625 ]]\n"
     ]
    }
   ],
   "source": [
    "from sklearn.cluster import KMeans\n",
    "\n",
    "kmeans1 = KMeans(n_clusters=5, random_state=0).fit(Z_TSNE)\n",
    "print(kmeans1.labels_)\n",
    "print(kmeans1.cluster_centers_)"
   ]
  },
  {
   "cell_type": "code",
   "execution_count": 33,
   "id": "effective-hardwood",
   "metadata": {},
   "outputs": [
    {
     "name": "stdout",
     "output_type": "stream",
     "text": [
      "[2 4 0 ... 4 0 3]\n",
      "[[ -3.09673523 -11.18185864]\n",
      " [ 19.17190918   5.66327313]\n",
      " [ -1.86770785  15.88380568]\n",
      " [-16.70428258   2.17163743]\n",
      " [ 10.46656426  -6.31500666]]\n"
     ]
    }
   ],
   "source": [
    "kmeans2 = KMeans(n_clusters=5, random_state=0).fit(pca_data2)\n",
    "print(kmeans2.labels_)\n",
    "print(kmeans2.cluster_centers_)"
   ]
  },
  {
   "cell_type": "code",
   "execution_count": 40,
   "id": "based-representative",
   "metadata": {},
   "outputs": [
    {
     "name": "stdout",
     "output_type": "stream",
     "text": [
      "[2 4 0 ... 4 0 3]\n",
      "[[ -3.09673523  11.18185864]\n",
      " [ 19.17190918  -5.66327313]\n",
      " [ -1.86770785 -15.88380568]\n",
      " [-16.70428258  -2.17163743]\n",
      " [ 10.46656426   6.31500666]]\n"
     ]
    }
   ],
   "source": [
    "kmeans3 = KMeans(n_clusters=5, random_state=0).fit(Z_PCA.T)\n",
    "print(kmeans3.labels_)\n",
    "print(kmeans3.cluster_centers_)"
   ]
  }
 ],
 "metadata": {
  "kernelspec": {
   "display_name": "Python 3",
   "language": "python",
   "name": "python3"
  },
  "language_info": {
   "codemirror_mode": {
    "name": "ipython",
    "version": 3
   },
   "file_extension": ".py",
   "mimetype": "text/x-python",
   "name": "python",
   "nbconvert_exporter": "python",
   "pygments_lexer": "ipython3",
   "version": "3.8.5"
  }
 },
 "nbformat": 4,
 "nbformat_minor": 5
}
