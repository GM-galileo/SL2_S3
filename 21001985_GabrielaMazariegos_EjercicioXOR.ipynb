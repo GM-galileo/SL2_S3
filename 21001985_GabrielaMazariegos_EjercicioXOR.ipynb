{
 "cells": [
  {
   "cell_type": "code",
   "execution_count": 27,
   "metadata": {},
   "outputs": [],
   "source": [
    "import numpy as np\n",
    "import pandas as pd\n",
    "import matplotlib.pyplot as plt\n",
    "import seaborn as sns\n",
    "from matplotlib.colors import ListedColormap"
   ]
  },
  {
   "cell_type": "code",
   "execution_count": 28,
   "metadata": {},
   "outputs": [
    {
     "data": {
      "text/plain": [
       "array([[0, 0],\n",
       "       [0, 1],\n",
       "       [1, 0],\n",
       "       [1, 1]])"
      ]
     },
     "execution_count": 28,
     "metadata": {},
     "output_type": "execute_result"
    }
   ],
   "source": [
    "X = np.array([[0, 0], [0, 1], [1, 0], [1, 1]])\n",
    "Y = np.array([0,1,1,0])\n",
    "X"
   ]
  },
  {
   "cell_type": "code",
   "execution_count": 38,
   "metadata": {},
   "outputs": [
    {
     "data": {
      "text/plain": [
       "matrix([[0, 0, 1, 1],\n",
       "        [0, 1, 0, 1],\n",
       "        [1, 1, 1, 1],\n",
       "        [1, 1, 1, 1]])"
      ]
     },
     "execution_count": 38,
     "metadata": {},
     "output_type": "execute_result"
    }
   ],
   "source": [
    "Matriz1 = np.asmatrix(np.column_stack((X,np.ones_like(X))))\n",
    "Matriz1.T"
   ]
  },
  {
   "cell_type": "code",
   "execution_count": 34,
   "metadata": {},
   "outputs": [
    {
     "data": {
      "text/plain": [
       "array([[ 1. ,  1. , -1.5]])"
      ]
     },
     "execution_count": 34,
     "metadata": {},
     "output_type": "execute_result"
    }
   ],
   "source": [
    "Parametros_AND = np.array([[1],[1],[-1.5]])\n",
    "Parametros_AND.T"
   ]
  },
  {
   "cell_type": "code",
   "execution_count": 61,
   "metadata": {},
   "outputs": [
    {
     "data": {
      "text/plain": [
       "array([[4.25]])"
      ]
     },
     "execution_count": 61,
     "metadata": {},
     "output_type": "execute_result"
    }
   ],
   "source": [
    "np.matmul(Parametros_AND.T,Parametros_AND)"
   ]
  },
  {
   "cell_type": "code",
   "execution_count": 3,
   "metadata": {},
   "outputs": [
    {
     "data": {
      "image/png": "[encoded data removed]",
      "text/plain": [
       "<Figure size 432x288 with 1 Axes>"
      ]
     },
     "metadata": {
      "needs_background": "light"
     },
     "output_type": "display_data"
    }
   ],
   "source": [
    "colours = ListedColormap(['r','b'])\n",
    "classes = [\"0\",\"1\"]\n",
    "plot = plt.scatter(X[:,0],X[:, 1],c=list(Y),cmap=colours)\n",
    "\n",
    "plt.legend(handles=plot.legend_elements()[0],labels=classes)\n",
    "plt.grid(True)\n",
    "plt.show()"
   ]
  },
  {
   "cell_type": "code",
   "execution_count": 4,
   "metadata": {
    "colab": {
     "base_uri": "https://localhost:8080/",
     "height": 34
    },
    "executionInfo": {
     "elapsed": 421,
     "status": "ok",
     "timestamp": 1595903051381,
     "user": {
      "displayName": "Luis Fernando Leal Hernandez",
      "photoUrl": "",
      "userId": "08643725771405988586"
     },
     "user_tz": 300
    },
    "id": "5D-YWRCHOR-6",
    "outputId": "61f868f7-ab19-48c9-e2e2-9ae71827445b"
   },
   "outputs": [],
   "source": [
    "def perceptron_AND(x1,x2):\n",
    "    weight1 = 1 #default 0\n",
    "    weight2 = 1 #default 0\n",
    "    bias = -1.5 #default 0\n",
    " \n",
    "    z = weight1*X1 + weight2*X2  + bias\n",
    "    h = activacion_heaviside(z)\n",
    "\n",
    "    return h"
   ]
  },
  {
   "cell_type": "code",
   "execution_count": 5,
   "metadata": {
    "colab": {
     "base_uri": "https://localhost:8080/",
     "height": 34
    },
    "executionInfo": {
     "elapsed": 385,
     "status": "ok",
     "timestamp": 1595902913645,
     "user": {
      "displayName": "Luis Fernando Leal Hernandez",
      "photoUrl": "",
      "userId": "08643725771405988586"
     },
     "user_tz": 300
    },
    "id": "NQWMY-_vMqgx",
    "outputId": "16d161c6-373b-4ddb-be4a-60312fcba3c0"
   },
   "outputs": [],
   "source": [
    "def perceptron_OR(x1,x2):\n",
    "    weight1 = 2 #default 0\n",
    "    weight2 = 2 #default 0\n",
    "    bias = -1.5 #default 0\n",
    " \n",
    "    z = weight1*X1 + weight2*X2  + bias\n",
    "    h = activacion_heaviside(z)\n",
    "\n",
    "    return h"
   ]
  },
  {
   "cell_type": "code",
   "execution_count": 6,
   "metadata": {},
   "outputs": [],
   "source": [
    "def perceptron_NOT(x1,x2):\n",
    "    weight1 = 0 #default 0\n",
    "    weight2 = -10 #default 0\n",
    "    bias = 5 #default 0\n",
    " \n",
    "    z = weight1*X1 + weight2*X2  + bias\n",
    "    h = activacion_heaviside(z)\n",
    "\n",
    "    return H"
   ]
  },
  {
   "cell_type": "code",
   "execution_count": 7,
   "metadata": {
    "id": "T_H-LmMiQdxP"
   },
   "outputs": [],
   "source": [
    "def perceptron_IDENTIDAD(x1,x2):\n",
    "    return (x1,x2)"
   ]
  },
  {
   "cell_type": "code",
   "execution_count": 31,
   "metadata": {},
   "outputs": [],
   "source": [
    "def perceptron_AND_OR_NOT(X,W):\n",
    "    return np.matmul(X,W)"
   ]
  },
  {
   "cell_type": "code",
   "execution_count": 44,
   "metadata": {},
   "outputs": [],
   "source": [
    "def activacion_heaviside(z):\n",
    "    return z >= 0"
   ]
  },
  {
   "cell_type": "code",
   "execution_count": 97,
   "metadata": {
    "colab": {
     "base_uri": "https://localhost:8080/",
     "height": 34
    },
    "executionInfo": {
     "elapsed": 385,
     "status": "ok",
     "timestamp": 1595903481963,
     "user": {
      "displayName": "Luis Fernando Leal Hernandez",
      "photoUrl": "",
      "userId": "08643725771405988586"
     },
     "user_tz": 300
    },
    "id": "zWn-N5uMO9JR",
    "outputId": "f5706015-fb1b-4441-c098-c5b24d36b6ab"
   },
   "outputs": [],
   "source": [
    "def perceptron_XOR(X):\n",
    "    Parametros_AND = np.array([[1],[1],[-1.5]])\n",
    "    Parametros_OR  = np.array([[2],[2],[-1.5]])\n",
    "    Parametros_NOT = np.array([[-1],[0]])\n",
    "    \n",
    "    X = np.column_stack((X,np.ones_like(X)))[:,0:3]\n",
    "    \n",
    "    Capa1 = activacion_heaviside(perceptron_AND_OR_NOT(X,Parametros_AND)).astype(int)\n",
    "    \n",
    "    X2 = np.column_stack((Capa1,np.ones_like(Capa1)))\n",
    "    Capa2_1 = activacion_heaviside(perceptron_AND_OR_NOT(X2,Parametros_NOT)).astype(int)\n",
    "    \n",
    "    Capa2_2 = activacion_heaviside(perceptron_AND_OR_NOT(X,Parametros_OR)).astype(int)\n",
    "    \n",
    "    X3 = np.column_stack((Capa2_1,Capa2_2))\n",
    "    X3 = np.column_stack((X3,np.ones_like(X3)))[:,0:3]\n",
    "    Capa3 = activacion_heaviside(perceptron_AND_OR_NOT(X3,Parametros_AND)).astype(int)\n",
    "    \n",
    "    return Capa3\n",
    "    "
   ]
  },
  {
   "cell_type": "code",
   "execution_count": 99,
   "metadata": {},
   "outputs": [
    {
     "data": {
      "text/plain": [
       "array([[0],\n",
       "       [1],\n",
       "       [1],\n",
       "       [0]])"
      ]
     },
     "execution_count": 99,
     "metadata": {},
     "output_type": "execute_result"
    }
   ],
   "source": [
    "XOR = perceptron_XOR(X)\n",
    "XOR"
   ]
  }
 ],
 "metadata": {
  "colab": {
   "name": "XOR_con_perceptrones.ipynb",
   "provenance": []
  },
  "kernelspec": {
   "display_name": "Python 3",
   "language": "python",
   "name": "python3"
  },
  "language_info": {
   "codemirror_mode": {
    "name": "ipython",
    "version": 3
   },
   "file_extension": ".py",
   "mimetype": "text/x-python",
   "name": "python",
   "nbconvert_exporter": "python",
   "pygments_lexer": "ipython3",
   "version": "3.8.5"
  }
 },
 "nbformat": 4,
 "nbformat_minor": 4
}
